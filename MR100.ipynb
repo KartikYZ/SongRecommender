{
 "cells": [
  {
   "cell_type": "code",
   "execution_count": 91,
   "metadata": {},
   "outputs": [
    {
     "name": "stdout",
     "output_type": "stream",
     "text": [
      "STARTING TIME: 1608173746.6226215\n",
      "\n",
      "imports successful\n",
      "\n",
      "ENDING TIME: 1608173746.6235242\n",
      "The elapsed time is 0.0009026527404785156 seconds\n",
      "The elapsed time is 0 H: 0 M: 0.001 S\n",
      "\n"
     ]
    }
   ],
   "source": [
    "import time\n",
    "\n",
    "TRAINING_DATA_SIZE = 100\n",
    "\n",
    "def convertSeconds2HMS(x):\n",
    "    hours = int (x / 3600)\n",
    "    x = x - 3600 * hours\n",
    "    minutes = int (x / 60)\n",
    "    x = x - 60 * minutes\n",
    "    seconds = round(x, 3)\n",
    "    print(\"The elapsed time is \" + str(hours) + \" H: \" + str(minutes) + \" M: \" + str(seconds) + \" S\\n\")\n",
    "begin = time.time()\n",
    "print(\"STARTING TIME: \" + str(begin) + \"\\n\")\n",
    "\n",
    "\n",
    "#import tensorflow as tf\n",
    "import csv\n",
    "import numpy as np\n",
    "#import pandas as pd\n",
    "import matplotlib.pyplot as plt\n",
    "import sklearn as sk\n",
    "from sklearn.model_selection import train_test_split\n",
    "#print(tf.__version__) #required => >= 2.0.0\n",
    "from sklearn.decomposition import PCA\n",
    "from sklearn.preprocessing import StandardScaler\n",
    "from sklearn.cluster import KMeans\n",
    "print(\"imports successful\")\n",
    "\n",
    "end = time.time()\n",
    "elapsed = end - begin\n",
    "print(\"\\nENDING TIME: \" + str(end))\n",
    "print(\"The elapsed time is \" + str(elapsed) + \" seconds\")\n",
    "convertSeconds2HMS(elapsed)"
   ]
  },
  {
   "cell_type": "code",
   "execution_count": 92,
   "metadata": {},
   "outputs": [
    {
     "name": "stdout",
     "output_type": "stream",
     "text": [
      "STARTING TIME: 1608173746.6451323\n",
      "\n",
      "1\n",
      "2\n",
      "3\n",
      "4\n",
      "5\n",
      "6\n",
      "7\n",
      "8\n",
      "9\n",
      "10\n",
      "11\n",
      "12\n",
      "13\n",
      "14\n",
      "15\n",
      "16\n",
      "17\n",
      "18\n",
      "19\n",
      "20\n",
      "21\n",
      "22\n",
      "23\n",
      "24\n",
      "25\n",
      "26\n",
      "27\n",
      "28\n",
      "29\n",
      "30\n",
      "31\n",
      "32\n",
      "33\n",
      "34\n",
      "35\n",
      "36\n",
      "37\n",
      "38\n",
      "39\n",
      "40\n",
      "41\n",
      "42\n",
      "43\n",
      "44\n",
      "45\n",
      "46\n",
      "47\n",
      "48\n",
      "49\n",
      "50\n",
      "51\n",
      "52\n",
      "53\n",
      "54\n",
      "55\n",
      "56\n",
      "57\n",
      "58\n",
      "59\n",
      "60\n",
      "61\n",
      "62\n",
      "63\n",
      "64\n",
      "65\n",
      "66\n",
      "67\n",
      "68\n",
      "69\n",
      "70\n",
      "71\n",
      "72\n",
      "73\n",
      "74\n",
      "75\n",
      "76\n",
      "77\n",
      "78\n",
      "79\n",
      "80\n",
      "81\n",
      "82\n",
      "83\n",
      "84\n",
      "85\n",
      "86\n",
      "87\n",
      "88\n",
      "89\n",
      "90\n",
      "91\n",
      "92\n",
      "93\n",
      "94\n",
      "95\n",
      "96\n",
      "97\n",
      "98\n",
      "99\n",
      "\n",
      "ENDING TIME: 1608173746.6617844\n",
      "The elapsed time is 0.01665210723876953 seconds\n",
      "The elapsed time is 0 H: 0 M: 0.017 S\n",
      "\n"
     ]
    }
   ],
   "source": [
    "begin = time.time()\n",
    "print(\"STARTING TIME: \" + str(begin) + \"\\n\")\n",
    "for x in range(1,TRAINING_DATA_SIZE):\n",
    "    print(x)\n",
    "end = time.time()\n",
    "elapsed = end - begin\n",
    "print(\"\\nENDING TIME: \" + str(end))\n",
    "print(\"The elapsed time is \" + str(elapsed) + \" seconds\")\n",
    "convertSeconds2HMS(elapsed)"
   ]
  },
  {
   "cell_type": "code",
   "execution_count": 93,
   "metadata": {},
   "outputs": [
    {
     "name": "stdout",
     "output_type": "stream",
     "text": [
      "STARTING TIME: 1608173746.693724\n",
      "\n",
      "data transfer complete\n",
      "\n",
      "ENDING TIME: 1608173750.8822987\n",
      "The elapsed time is 4.18857479095459 seconds\n",
      "The elapsed time is 0 H: 0 M: 4.189 S\n",
      "\n"
     ]
    }
   ],
   "source": [
    "import time\n",
    "begin = time.time()\n",
    "print(\"STARTING TIME: \" + str(begin) + \"\\n\")\n",
    "label_names = []\n",
    "music_labels = []\n",
    "label_index = []\n",
    "music_data = []\n",
    "with open(\"datasClean.csv\", \"r\", encoding=\"utf-8\") as music_file:\n",
    "\n",
    "    music_reader  = csv.reader(music_file, delimiter = \",\")\n",
    "    \n",
    "    headingRow = next(music_reader)\n",
    "    for row in music_reader:\n",
    "      #music_labels.append(row[8])\n",
    "      label_index.append(int(row[1]))\n",
    "      label_names.append(row[0])\n",
    "      music_data.append([row[11], row[0], row[13], row[1], row[2], row[3], row[4], row[5], row[6], row [7], row[9], row[10]])\n",
    "\n",
    "print(\"data transfer complete\")\n",
    "    \n",
    "end = time.time()\n",
    "elapsed = end - begin\n",
    "print(\"\\nENDING TIME: \" + str(end))\n",
    "print(\"The elapsed time is \" + str(elapsed) + \" seconds\")\n",
    "convertSeconds2HMS(elapsed)"
   ]
  },
  {
   "cell_type": "code",
   "execution_count": 94,
   "metadata": {},
   "outputs": [
    {
     "name": "stdout",
     "output_type": "stream",
     "text": [
      "STARTING TIME: 1608173750.9468234\n",
      "\n",
      "[['1', '0.479', '0.428', '0.54', '0.0', '0.385', '-11.806', '0.8490000000000001', '123.475'], ['0', '1.23e-05', '0.409', '0.9520000000000001', '0.000156', '0.31', '-3.761', '0.55', '80.899'], ['1', '0.000157', '0.589', '0.9059999999999999', '0.0174', '0.321', '-5.19', '0.514', '130.918'], ['1', '0.563', '0.46399999999999997', '0.359', '0.0', '0.0814', '-12.937999999999999', '0.603', '88.221'], ['1', '0.8190000000000001', '0.418', '0.133', '0.149', '0.28300000000000003', '-20.706999999999997', '0.6559999999999999', '108.331'], ['0', '7.070000000000001e-05', '0.508', '0.9540000000000001', '0.86', '0.214', '-6.849', '0.652', '163.639'], ['1', '0.0016300000000000002', '0.6759999999999999', '0.4320000000000001', '3.84e-06', '0.0799', '-9.51', '0.12', '145.869'], ['1', '0.193', '0.879', '0.44799999999999995', '2.78e-05', '0.0699', '-11.958', '0.9790000000000001', '102.324'], ['0', '0.8909999999999999', '0.616', '0.22899999999999998', '6.76e-06', '0.0691', '-9.747', '0.568', '113.40100000000001'], ['1', '0.0151', '0.4', '0.9790000000000001', '0.0164', '0.342', '-5.052', '0.0791', '100.93700000000001'], ['0', '0.00732', '0.47', '0.909', '0.304', '0.314', '-5.215', '0.534', '161.64700000000005'], ['0', '0.669', '0.519', '0.46299999999999997', '0.0287', '0.21100000000000002', '-11.99', '0.359', '91.397'], ['0', '0.695', '0.49', '0.445', '1.1599999999999999e-05', '0.106', '-7.19', '0.54', '159.31799999999996'], ['1', '0.7140000000000001', '0.61', '0.863', '0.568', '0.215', '-8.918', '0.943', '130.71200000000002'], ['0', '0.114', '0.773', '0.595', '2.47e-06', '0.13', '-6.062', '0.33799999999999997', '123.96799999999999'], ['0', '0.91', '0.531', '0.27399999999999997', '0.0054600000000000004', '0.0758', '-15.989', '0.657', '114.605'], ['0', '0.995', '0.638', '0.33399999999999996', '0.785', '0.34700000000000003', '-16.401', '0.966', '150.047'], ['1', '0.698', '0.33899999999999997', '0.318', '0.518', '0.151', '-11.501', '0.35', '82.462'], ['0', '0.5710000000000001', '0.6940000000000001', '0.22899999999999998', '0.0', '0.349', '-17.28', '0.41200000000000003', '103.913'], ['1', '0.11', '0.784', '0.662', '0.0013599999999999999', '0.11199999999999999', '-8.539', '0.9229999999999999', '148.416'], ['1', '0.894', '0.27699999999999997', '0.0727', '2.29e-06', '0.46299999999999997', '-17.31', '0.0769', '94.32799999999999'], ['1', '0.955', '0.442', '0.152', '0.009890000000000001', '0.138', '-13.911', '0.473', '126.236'], ['0', '0.991', '0.48700000000000004', '0.0256', '0.894', '0.113', '-17.71', '0.0518', '98.214'], ['1', '0.9940000000000001', '0.318', '0.0034100000000000003', '0.9329999999999999', '0.10800000000000001', '-33.516', '0.159', '100.353'], ['1', '0.809', '0.578', '0.29600000000000004', '0.937', '0.07200000000000001', '-8.478', '0.6459999999999999', '101.94200000000001'], ['1', '0.612', '0.451', '0.682', '1.11e-06', '0.0651', '-8.464', '0.737', '152.66899999999995'], ['1', '0.968', '0.486', '0.225', '0.172', '0.23', '-12.469000000000001', '0.34700000000000003', '126.542'], ['1', '0.41200000000000003', '0.514', '0.41200000000000003', '0.0009710000000000001', '0.127', '-10.041', '0.511', '89.616'], ['1', '0.649', '0.7879999999999999', '0.9620000000000001', '1.19e-06', '0.331', '-3.6189999999999998', '0.268', '112.539'], ['1', '0.192', '0.478', '0.5720000000000001', '0.00556', '0.106', '-9.316', '0.434', '82.272'], ['1', '0.128', '0.7190000000000001', '0.589', '0.1', '0.13', '-11.87', '0.8190000000000001', '124.685'], ['1', '0.187', '0.7170000000000001', '0.12300000000000001', '1.23e-05', '0.128', '-21.869', '0.53', '112.915'], ['1', '0.409', '0.589', '0.45299999999999996', '0.0', '0.35100000000000003', '-13.309000000000001', '0.515', '105.70299999999999'], ['1', '0.963', '0.0639', '0.27699999999999997', '0.848', '0.184', '-12.74', '0.24600000000000002', '68.294'], ['0', '0.93', '0.45899999999999996', '0.218', '0.0447', '0.0947', '-17.08', '0.35200000000000004', '142.838'], ['1', '0.266', '0.674', '0.565', '0.0238', '0.0796', '-14.085', '0.835', '105.086'], ['0', '0.0659', '0.7190000000000001', '0.61', '0.292', '0.149', '-15.384', '0.537', '139.71200000000002'], ['1', '0.348', '0.4320000000000001', '0.685', '0.0258', '0.32299999999999995', '-8.168', '0.387', '86.93700000000004'], ['1', '0.992', '0.469', '0.425', '0.00011999999999999999', '0.314', '-9.681000000000001', '0.779', '126.75299999999999'], ['0', '0.943', '0.456', '0.0895', '0.0', '0.267', '-17.47', '0.6', '102.087'], ['0', '0.00554', '0.303', '0.885', '7.18e-05', '0.225', '-8.545', '0.486', '145.41'], ['0', '0.0169', '0.74', '0.498', '0.00282', '0.319', '-6.684', '0.652', '98.016'], ['1', '0.996', '0.568', '0.156', '0.7340000000000001', '0.209', '-16.906', '0.8', '186.68900000000002'], ['1', '0.165', '0.521', '0.414', '0.00294', '0.336', '-10.128', '0.337', '144.15'], ['1', '0.48', '0.905', '0.721', '0.0', '0.528', '-6.9220000000000015', '0.695', '145.958'], ['1', '0.00445', '0.653', '0.8690000000000001', '0.39799999999999996', '0.33399999999999996', '-9.392999999999999', '0.515', '125.20200000000001'], ['0', '0.872', '0.456', '0.213', '0.0', '0.363', '-15.065999999999999', '0.589', '74.59100000000002'], ['1', '0.037000000000000005', '0.519', '0.6679999999999999', '0.0', '0.17', '-5.843999999999999', '0.424', '141.965'], ['1', '0.9940000000000001', '0.705', '0.281', '0.943', '0.111', '-19.941', '0.608', '117.681'], ['1', '0.0465', '0.5379999999999999', '0.652', '0.0', '0.0734', '-11.285', '0.785', '130.398'], ['0', '0.0474', '0.8320000000000001', '0.4270000000000001', '0.0', '0.10099999999999999', '-8.516', '0.369', '99.935'], ['1', '0.00835', '0.645', '0.713', '0.0', '0.113', '-5.355', '0.5660000000000001', '74.98899999999998'], ['1', '0.591', '0.5870000000000001', '0.474', '1.6899999999999994e-05', '0.225', '-10.884', '0.358', '76.521'], ['1', '0.22399999999999998', '0.654', '0.489', '5.14e-05', '0.135', '-11.949000000000002', '0.496', '109.988'], ['0', '0.184', '0.655', '0.33799999999999997', '0.0', '0.342', '-18.789', '0.718', '78.834'], ['1', '0.20800000000000002', '0.7490000000000001', '0.46299999999999997', '0.0371', '0.337', '-8.433', '0.19', '90.02799999999998'], ['1', '0.312', '0.452', '0.889', '0.8', '0.5579999999999999', '-3.838', '0.591', '145.056'], ['1', '0.813', '0.376', '0.368', '0.9159999999999999', '0.111', '-19.084', '0.18600000000000005', '100.97200000000001'], ['1', '0.0518', '0.883', '0.563', '0.01', '0.0961', '-11.517999999999999', '0.743', '86.90700000000002'], ['1', '0.691', '0.754', '0.54', '7.509999999999998e-05', '0.0868', '-8.326', '0.79', '101.738'], ['1', '0.645', '0.665', '0.494', '0.0', '0.3720000000000001', '-7.432', '0.963', '96.288'], ['1', '0.317', '0.431', '0.657', '0.0', '0.0893', '-5.12', '0.259', '142.52700000000004'], ['1', '0.00164', '0.6609999999999999', '0.40700000000000003', '0.0241', '0.0987', '-14.110999999999999', '0.4970000000000001', '125.64399999999999'], ['1', '0.5660000000000001', '0.46299999999999997', '0.322', '0.0141', '0.131', '-15.504000000000001', '0.267', '144.649'], ['1', '0.965', '0.431', '0.19899999999999998', '0.22899999999999998', '0.10800000000000001', '-12.940999999999999', '0.354', '64.421'], ['1', '0.985', '0.222', '0.111', '0.8640000000000001', '0.17800000000000002', '-19.811', '0.0379', '105.07600000000001'], ['1', '0.85', '0.495', '0.7390000000000001', '0.0', '0.235', '-9.517999999999999', '0.88', '144.13299999999995'], ['0', '0.9840000000000001', '0.593', '0.187', '0.0401', '0.0866', '-10.298', '0.385', '123.635'], ['0', '0.517', '0.556', '0.7020000000000001', '0.0', '0.34299999999999997', '-10.079', '0.7929999999999999', '155.94799999999995'], ['1', '0.267', '0.63', '0.28800000000000003', '0.0', '0.6559999999999999', '-18.895', '0.39799999999999996', '168.567'], ['0', '0.0035600000000000002', '0.251', '0.977', '0.000138', '0.17800000000000002', '-5.48', '0.0662', '156.36'], ['0', '0.54', '0.489', '0.29600000000000004', '0.0', '0.377', '-13.9', '0.684', '152.701'], ['1', '0.16', '0.4970000000000001', '0.542', '1.4000000000000001e-05', '0.084', '-7.398', '0.0707', '93.57'], ['0', '0.32899999999999996', '0.49', '0.354', '3.3100000000000005e-05', '0.33299999999999996', '-14.953', '0.424', '138.651'], ['1', '0.992', '0.42100000000000004', '0.0378', '0.877', '0.114', '-25.482', '0.0375', '131.214'], ['1', '0.995', '0.498', '0.00487', '0.917', '0.0814', '-28.771', '0.43', '74.85600000000002'], ['0', '0.401', '0.631', '0.552', '0.0', '0.0382', '-10.343', '0.732', '131.929'], ['1', '0.363', '0.685', '0.179', '0.0', '0.198', '-17.033', '0.6759999999999999', '81.329'], ['1', '0.887', '0.445', '0.439', '0.184', '0.344', '-9.309', '0.444', '102.574'], ['1', '0.925', '0.23399999999999999', '0.276', '0.363', '0.384', '-10.658', '0.27', '89.99799999999998'], ['1', '0.598', '0.551', '0.527', '3.36e-06', '0.0955', '-11.187000000000001', '0.498', '142.656'], ['1', '0.682', '0.6579999999999999', '0.131', '0.000315', '0.31', '-13.847000000000001', '0.489', '119.786'], ['1', '0.9840000000000001', '0.222', '0.20800000000000002', '0.72', '0.319', '-14.668', '0.231', '66.68'], ['1', '0.995', '0.255', '0.307', '0.9009999999999999', '0.126', '-15.450999999999999', '0.5529999999999999', '166.32'], ['1', '0.7490000000000001', '0.501', '0.22399999999999998', '0.000556', '0.0741', '-18.144000000000002', '0.299', '85.65700000000002'], ['0', '0.924', '0.442', '0.2', '0.8959999999999999', '0.257', '-18.980999999999998', '0.228', '78.834'], ['0', '0.307', '0.506', '0.402', '1.25e-05', '0.0814', '-11.743', '0.54', '94.221'], ['0', '0.451', '0.6809999999999999', '0.6509999999999999', '0.0', '0.0516', '-3.7310000000000003', '0.946', '107.883'], ['1', '0.0389', '0.634', '0.141', '0.000389', '0.215', '-23.24', '0.64', '83.734'], ['0', '0.851', '0.439', '0.374', '0.39', '0.152', '-14.565999999999999', '0.691', '65.957'], ['1', '0.0282', '0.868', '0.433', '0.0', '0.0399', '-13.443', '0.866', '100.03'], ['1', '0.10800000000000001', '0.573', '0.665', '2.09e-06', '0.095', '-5.081', '0.34700000000000003', '105.006'], ['1', '0.217', '0.721', '0.539', '0.00257', '0.419', '-8.726', '0.377', '81.971'], ['1', '0.00542', '0.537', '0.825', '0.326', '0.1', '-6.609', '0.125', '141.108'], ['1', '0.5660000000000001', '0.645', '0.623', '0.0', '0.204', '-7.836', '0.624', '95.96799999999999'], ['1', '0.4270000000000001', '0.604', '0.41100000000000003', '5.7399999999999986e-05', '0.602', '-14.258', '0.675', '126.637'], ['0', '0.0282', '0.691', '0.77', '0.0', '0.4970000000000001', '-4.578', '0.344', '90.024'], ['1', '0.127', '0.379', '0.7070000000000001', '0.0868', '0.28', '-11.74', '0.46299999999999997', '98.34100000000001'], ['1', '0.00248', '0.303', '0.777', '0.785', '0.0363', '-3.8489999999999998', '0.446', '146.847'], ['1', '0.937', '0.165', '0.253', '0.24', '0.102', '-13.124', '0.138', '66.441']]\n",
      "\n",
      "ENDING TIME: 1608173753.8236861\n",
      "The elapsed time is 2.8768627643585205 seconds\n",
      "The elapsed time is 0 H: 0 M: 2.877 S\n",
      "\n"
     ]
    }
   ],
   "source": [
    "import time\n",
    "from random import Random\n",
    "myRand4 = Random(4)\n",
    "begin = time.time()\n",
    "print(\"STARTING TIME: \" + str(begin) + \"\\n\")\n",
    "thing1 = music_data[0:]\n",
    "myRand4.shuffle(thing1)\n",
    "#random.shuffle(thing1)\n",
    "#X = np.array(music_data[:, 1:TRAINING_DATA_SIZE])\n",
    "thing2 = [ item[3:TRAINING_DATA_SIZE] for item in thing1 ]\n",
    "\n",
    "#print(music_labels[0:30])\n",
    "#print(label_index[0:30])\n",
    "#print(label_names[0:TRAINING_DATA_SIZE])\n",
    "#print(\"\\n\")\n",
    "#print(music_data[1:TRAINING_DATA_SIZE])\n",
    "#print(len(music_labels))\n",
    "#print(len(label_index))\n",
    "#print(len(music_data))\n",
    "\n",
    "print(thing2[0:TRAINING_DATA_SIZE])\n",
    "#thing3 = thing2[2:TRAINING_DATA_SIZE]\n",
    "#print(thing3)\n",
    "\n",
    "end = time.time()\n",
    "elapsed = end - begin\n",
    "print(\"\\nENDING TIME: \" + str(end))\n",
    "print(\"The elapsed time is \" + str(elapsed) + \" seconds\")\n",
    "convertSeconds2HMS(elapsed)"
   ]
  },
  {
   "cell_type": "code",
   "execution_count": 95,
   "metadata": {},
   "outputs": [
    {
     "name": "stdout",
     "output_type": "stream",
     "text": [
      "STARTING TIME: 1608173753.863367\n",
      "\n",
      "[[-0.64776552 -0.13614608]\n",
      " [-2.20520808  1.36150206]\n",
      " [-2.48561799  1.09819571]\n",
      " [ 0.50982708 -0.49857565]\n",
      " [ 1.84799012 -0.91392747]\n",
      " [-1.79544421  1.40684649]\n",
      " [-0.95753649  0.5520612 ]\n",
      " [-1.48037454 -2.51109483]\n",
      " [ 0.33512044 -1.19959988]\n",
      " [-1.63661742  2.80392589]\n",
      " [-2.30802596  1.54591837]\n",
      " [ 0.2683408  -0.00681126]\n",
      " [-0.6011529   0.02823033]\n",
      " [-0.97050533 -0.17926337]\n",
      " [-1.85680382 -0.14992912]\n",
      " [ 0.86357133 -1.40506024]\n",
      " [ 0.81557453 -1.47259872]\n",
      " [ 1.69380601  0.95548578]\n",
      " [ 0.43166341 -1.19111257]\n",
      " [-2.37688652 -1.30309765]\n",
      " [ 2.43148115  1.07137887]\n",
      " [ 1.37592532 -0.37658837]\n",
      " [ 3.32550452  0.31456543]\n",
      " [ 5.09495199 -0.0479837 ]\n",
      " [ 1.25014371 -0.1735073 ]\n",
      " [-0.94825819  0.15720246]\n",
      " [ 1.28441609  0.17014661]\n",
      " [-0.07106097 -0.11304887]\n",
      " [-1.94817217  0.8958797 ]\n",
      " [-0.50488165  0.48096511]\n",
      " [-1.45246903 -1.13085706]\n",
      " [ 0.60660317 -1.84140811]\n",
      " [-0.29056248 -0.21708022]\n",
      " [ 3.28766964  2.18681245]\n",
      " [ 1.36759686 -0.44006002]\n",
      " [-0.89288219 -1.39544448]\n",
      " [-1.06034173 -0.6546727 ]\n",
      " [-0.6359562   1.20980302]\n",
      " [ 0.06353411 -0.36622822]\n",
      " [ 1.53707837 -1.20484151]\n",
      " [-1.77925288  1.63666111]\n",
      " [-1.93314847 -0.7955769 ]\n",
      " [ 1.44326601 -0.94779249]\n",
      " [-0.7281493   0.76214559]\n",
      " [-2.4276973  -0.669334  ]\n",
      " [-1.73906915  0.83801363]\n",
      " [ 1.14143429 -0.83099694]\n",
      " [-1.69495808  1.02530598]\n",
      " [ 2.1302318  -1.18394924]\n",
      " [-1.44922945 -0.38193909]\n",
      " [-1.37984647 -0.91402371]\n",
      " [-1.7562756   0.05110232]\n",
      " [ 0.13663964  0.03664937]\n",
      " [-0.70219612 -0.44122681]\n",
      " [-0.19558163 -1.69029964]\n",
      " [-0.80984472  0.29579798]\n",
      " [-1.36986921  2.25163588]\n",
      " [ 2.80053038  1.10729213]\n",
      " [-1.5973568  -1.76221259]\n",
      " [-0.9026262  -1.40609431]\n",
      " [-1.09496827 -1.19969002]\n",
      " [-0.99410721  1.58151424]\n",
      " [-0.71747074 -0.61829693]\n",
      " [ 0.7323856   0.34855243]\n",
      " [ 2.03113417 -0.03045181]\n",
      " [ 3.89112309  1.58802245]\n",
      " [-0.94874653 -0.22224573]\n",
      " [ 0.76780821 -0.72523466]\n",
      " [-1.59333401 -0.29960325]\n",
      " [-0.28034068 -0.05515957]\n",
      " [-1.74270432  3.10112698]\n",
      " [-0.22913795 -0.59568313]\n",
      " [-0.39594809  1.35460627]\n",
      " [-0.14557027 -0.01075993]\n",
      " [ 4.00410181  0.4757985 ]\n",
      " [ 4.25345967 -1.16204657]\n",
      " [-1.15411973 -1.04077596]\n",
      " [ 0.40674887 -1.78619447]\n",
      " [ 0.59117776  0.6540785 ]\n",
      " [ 1.90211478  1.6101401 ]\n",
      " [-0.35630624 -0.01739844]\n",
      " [ 0.54425186 -0.96278077]\n",
      " [ 3.09373378  1.49686598]\n",
      " [ 2.25965092  0.99083176]\n",
      " [ 1.68650207 -0.49012694]\n",
      " [ 2.96274378  0.34579332]\n",
      " [-0.21203567 -0.50852279]\n",
      " [-1.98454276 -1.26659223]\n",
      " [ 0.69059947 -1.82690734]\n",
      " [ 1.32246182 -0.72436873]\n",
      " [-1.37057757 -2.31303732]\n",
      " [-1.39433588  0.82220266]\n",
      " [-1.08668155  0.08314873]\n",
      " [-1.30629854  2.00455768]\n",
      " [-0.92538642 -0.342479  ]\n",
      " [-0.60110029 -0.4127992 ]\n",
      " [-2.28662699  0.77319727]\n",
      " [-0.61500561  1.13727215]\n",
      " [-0.79685855  2.45922347]\n",
      " [ 2.64093022  1.49308197]]\n",
      "\n",
      "ENDING TIME: 1608173753.9151554\n",
      "The elapsed time is 0.051788330078125 seconds\n",
      "The elapsed time is 0 H: 0 M: 0.052 S\n",
      "\n"
     ]
    }
   ],
   "source": [
    "import time\n",
    "begin = time.time()\n",
    "print(\"STARTING TIME: \" + str(begin) + \"\\n\")\n",
    "#Creating the music recommendation data in array form\n",
    "X = np.array(thing2[0:TRAINING_DATA_SIZE])\n",
    "\n",
    "#Feature Scaling\n",
    "sc = StandardScaler()\n",
    "X = sc.fit_transform(X)\n",
    "\n",
    "#Principal components analysis\n",
    "pca = PCA(n_components = 2)\n",
    "pca.fit(X)\n",
    "X = pca.transform(X)\n",
    "print(X)\n",
    "\n",
    "end = time.time()\n",
    "elapsed = end - begin\n",
    "print(\"\\nENDING TIME: \" + str(end))\n",
    "print(\"The elapsed time is \" + str(elapsed) + \" seconds\")\n",
    "convertSeconds2HMS(elapsed)"
   ]
  },
  {
   "cell_type": "code",
   "execution_count": 96,
   "metadata": {
    "scrolled": false
   },
   "outputs": [
    {
     "name": "stdout",
     "output_type": "stream",
     "text": [
      "STARTING TIME: 1608173753.955362\n",
      "\n"
     ]
    },
    {
     "data": {
      "image/png": "[encoded data removed]",
      "text/plain": [
       "<Figure size 432x288 with 1 Axes>"
      ]
     },
     "metadata": {
      "needs_background": "light"
     },
     "output_type": "display_data"
    },
    {
     "name": "stdout",
     "output_type": "stream",
     "text": [
      "\n",
      "ENDING TIME: 1608173754.767624\n",
      "The elapsed time is 0.8122618198394775 seconds\n",
      "The elapsed time is 0 H: 0 M: 0.812 S\n",
      "\n"
     ]
    }
   ],
   "source": [
    "import time\n",
    "begin = time.time()\n",
    "print(\"STARTING TIME: \" + str(begin) + \"\\n\")\n",
    "\n",
    "import matplotlib.pyplot as plt\n",
    "from sklearn.cluster import KMeans\n",
    "\n",
    "#Plotting the data points\n",
    "plt.figure()\n",
    "plt.scatter(X[:,0], X[:,1], label = 'True Position')\n",
    "plt.show()\n",
    "\n",
    "end = time.time()\n",
    "elapsed = end - begin\n",
    "print(\"\\nENDING TIME: \" + str(end))\n",
    "print(\"The elapsed time is \" + str(elapsed) + \" seconds\")\n",
    "convertSeconds2HMS(elapsed)"
   ]
  },
  {
   "cell_type": "code",
   "execution_count": 97,
   "metadata": {},
   "outputs": [
    {
     "name": "stdout",
     "output_type": "stream",
     "text": [
      "STARTING TIME: 1608173754.8081875\n",
      "\n"
     ]
    },
    {
     "name": "stderr",
     "output_type": "stream",
     "text": [
      "C:\\Users\\abhig\\anaconda3\\envs\\agency\\lib\\site-packages\\sklearn\\cluster\\_kmeans.py:938: FutureWarning: 'n_jobs' was deprecated in version 0.23 and will be removed in 0.25.\n",
      "  warnings.warn(\"'n_jobs' was deprecated in version 0.23 and will be\"\n"
     ]
    },
    {
     "name": "stdout",
     "output_type": "stream",
     "text": [
      "1\n",
      "The elapsed time is 0 H: 0 M: 0.451 S\n",
      "\n",
      "2\n",
      "The elapsed time is 0 H: 0 M: 0.07 S\n",
      "\n",
      "3\n",
      "The elapsed time is 0 H: 0 M: 0.102 S\n",
      "\n"
     ]
    },
    {
     "name": "stderr",
     "output_type": "stream",
     "text": [
      "C:\\Users\\abhig\\anaconda3\\envs\\agency\\lib\\site-packages\\sklearn\\cluster\\_kmeans.py:938: FutureWarning: 'n_jobs' was deprecated in version 0.23 and will be removed in 0.25.\n",
      "  warnings.warn(\"'n_jobs' was deprecated in version 0.23 and will be\"\n",
      "C:\\Users\\abhig\\anaconda3\\envs\\agency\\lib\\site-packages\\sklearn\\cluster\\_kmeans.py:938: FutureWarning: 'n_jobs' was deprecated in version 0.23 and will be removed in 0.25.\n",
      "  warnings.warn(\"'n_jobs' was deprecated in version 0.23 and will be\"\n",
      "C:\\Users\\abhig\\anaconda3\\envs\\agency\\lib\\site-packages\\sklearn\\cluster\\_kmeans.py:938: FutureWarning: 'n_jobs' was deprecated in version 0.23 and will be removed in 0.25.\n",
      "  warnings.warn(\"'n_jobs' was deprecated in version 0.23 and will be\"\n"
     ]
    },
    {
     "name": "stdout",
     "output_type": "stream",
     "text": [
      "4\n",
      "The elapsed time is 0 H: 0 M: 0.174 S\n",
      "\n",
      "5\n",
      "The elapsed time is 0 H: 0 M: 0.109 S\n",
      "\n"
     ]
    },
    {
     "name": "stderr",
     "output_type": "stream",
     "text": [
      "C:\\Users\\abhig\\anaconda3\\envs\\agency\\lib\\site-packages\\sklearn\\cluster\\_kmeans.py:938: FutureWarning: 'n_jobs' was deprecated in version 0.23 and will be removed in 0.25.\n",
      "  warnings.warn(\"'n_jobs' was deprecated in version 0.23 and will be\"\n",
      "C:\\Users\\abhig\\anaconda3\\envs\\agency\\lib\\site-packages\\sklearn\\cluster\\_kmeans.py:938: FutureWarning: 'n_jobs' was deprecated in version 0.23 and will be removed in 0.25.\n",
      "  warnings.warn(\"'n_jobs' was deprecated in version 0.23 and will be\"\n"
     ]
    },
    {
     "name": "stdout",
     "output_type": "stream",
     "text": [
      "6\n",
      "The elapsed time is 0 H: 0 M: 0.137 S\n",
      "\n",
      "7\n",
      "The elapsed time is 0 H: 0 M: 0.157 S\n",
      "\n"
     ]
    },
    {
     "name": "stderr",
     "output_type": "stream",
     "text": [
      "C:\\Users\\abhig\\anaconda3\\envs\\agency\\lib\\site-packages\\sklearn\\cluster\\_kmeans.py:938: FutureWarning: 'n_jobs' was deprecated in version 0.23 and will be removed in 0.25.\n",
      "  warnings.warn(\"'n_jobs' was deprecated in version 0.23 and will be\"\n",
      "C:\\Users\\abhig\\anaconda3\\envs\\agency\\lib\\site-packages\\sklearn\\cluster\\_kmeans.py:938: FutureWarning: 'n_jobs' was deprecated in version 0.23 and will be removed in 0.25.\n",
      "  warnings.warn(\"'n_jobs' was deprecated in version 0.23 and will be\"\n"
     ]
    },
    {
     "name": "stdout",
     "output_type": "stream",
     "text": [
      "8\n",
      "The elapsed time is 0 H: 0 M: 0.166 S\n",
      "\n",
      "9\n",
      "The elapsed time is 0 H: 0 M: 0.151 S\n",
      "\n"
     ]
    },
    {
     "name": "stderr",
     "output_type": "stream",
     "text": [
      "C:\\Users\\abhig\\anaconda3\\envs\\agency\\lib\\site-packages\\sklearn\\cluster\\_kmeans.py:938: FutureWarning: 'n_jobs' was deprecated in version 0.23 and will be removed in 0.25.\n",
      "  warnings.warn(\"'n_jobs' was deprecated in version 0.23 and will be\"\n",
      "C:\\Users\\abhig\\anaconda3\\envs\\agency\\lib\\site-packages\\sklearn\\cluster\\_kmeans.py:938: FutureWarning: 'n_jobs' was deprecated in version 0.23 and will be removed in 0.25.\n",
      "  warnings.warn(\"'n_jobs' was deprecated in version 0.23 and will be\"\n"
     ]
    },
    {
     "name": "stdout",
     "output_type": "stream",
     "text": [
      "10\n",
      "The elapsed time is 0 H: 0 M: 0.162 S\n",
      "\n",
      "11\n",
      "The elapsed time is 0 H: 0 M: 0.154 S\n",
      "\n"
     ]
    },
    {
     "name": "stderr",
     "output_type": "stream",
     "text": [
      "C:\\Users\\abhig\\anaconda3\\envs\\agency\\lib\\site-packages\\sklearn\\cluster\\_kmeans.py:938: FutureWarning: 'n_jobs' was deprecated in version 0.23 and will be removed in 0.25.\n",
      "  warnings.warn(\"'n_jobs' was deprecated in version 0.23 and will be\"\n",
      "C:\\Users\\abhig\\anaconda3\\envs\\agency\\lib\\site-packages\\sklearn\\cluster\\_kmeans.py:938: FutureWarning: 'n_jobs' was deprecated in version 0.23 and will be removed in 0.25.\n",
      "  warnings.warn(\"'n_jobs' was deprecated in version 0.23 and will be\"\n"
     ]
    },
    {
     "name": "stdout",
     "output_type": "stream",
     "text": [
      "12\n",
      "The elapsed time is 0 H: 0 M: 0.222 S\n",
      "\n",
      "13\n",
      "The elapsed time is 0 H: 0 M: 0.166 S\n",
      "\n"
     ]
    },
    {
     "name": "stderr",
     "output_type": "stream",
     "text": [
      "C:\\Users\\abhig\\anaconda3\\envs\\agency\\lib\\site-packages\\sklearn\\cluster\\_kmeans.py:938: FutureWarning: 'n_jobs' was deprecated in version 0.23 and will be removed in 0.25.\n",
      "  warnings.warn(\"'n_jobs' was deprecated in version 0.23 and will be\"\n",
      "C:\\Users\\abhig\\anaconda3\\envs\\agency\\lib\\site-packages\\sklearn\\cluster\\_kmeans.py:938: FutureWarning: 'n_jobs' was deprecated in version 0.23 and will be removed in 0.25.\n",
      "  warnings.warn(\"'n_jobs' was deprecated in version 0.23 and will be\"\n"
     ]
    },
    {
     "name": "stdout",
     "output_type": "stream",
     "text": [
      "14\n",
      "The elapsed time is 0 H: 0 M: 0.147 S\n",
      "\n",
      "15\n",
      "The elapsed time is 0 H: 0 M: 0.138 S\n",
      "\n"
     ]
    },
    {
     "name": "stderr",
     "output_type": "stream",
     "text": [
      "C:\\Users\\abhig\\anaconda3\\envs\\agency\\lib\\site-packages\\sklearn\\cluster\\_kmeans.py:938: FutureWarning: 'n_jobs' was deprecated in version 0.23 and will be removed in 0.25.\n",
      "  warnings.warn(\"'n_jobs' was deprecated in version 0.23 and will be\"\n",
      "C:\\Users\\abhig\\anaconda3\\envs\\agency\\lib\\site-packages\\sklearn\\cluster\\_kmeans.py:938: FutureWarning: 'n_jobs' was deprecated in version 0.23 and will be removed in 0.25.\n",
      "  warnings.warn(\"'n_jobs' was deprecated in version 0.23 and will be\"\n"
     ]
    },
    {
     "name": "stdout",
     "output_type": "stream",
     "text": [
      "16\n",
      "The elapsed time is 0 H: 0 M: 0.165 S\n",
      "\n",
      "17\n",
      "The elapsed time is 0 H: 0 M: 0.157 S\n",
      "\n"
     ]
    },
    {
     "name": "stderr",
     "output_type": "stream",
     "text": [
      "C:\\Users\\abhig\\anaconda3\\envs\\agency\\lib\\site-packages\\sklearn\\cluster\\_kmeans.py:938: FutureWarning: 'n_jobs' was deprecated in version 0.23 and will be removed in 0.25.\n",
      "  warnings.warn(\"'n_jobs' was deprecated in version 0.23 and will be\"\n",
      "C:\\Users\\abhig\\anaconda3\\envs\\agency\\lib\\site-packages\\sklearn\\cluster\\_kmeans.py:938: FutureWarning: 'n_jobs' was deprecated in version 0.23 and will be removed in 0.25.\n",
      "  warnings.warn(\"'n_jobs' was deprecated in version 0.23 and will be\"\n"
     ]
    },
    {
     "name": "stdout",
     "output_type": "stream",
     "text": [
      "18\n",
      "The elapsed time is 0 H: 0 M: 0.189 S\n",
      "\n",
      "19"
     ]
    },
    {
     "name": "stderr",
     "output_type": "stream",
     "text": [
      "C:\\Users\\abhig\\anaconda3\\envs\\agency\\lib\\site-packages\\sklearn\\cluster\\_kmeans.py:938: FutureWarning: 'n_jobs' was deprecated in version 0.23 and will be removed in 0.25.\n",
      "  warnings.warn(\"'n_jobs' was deprecated in version 0.23 and will be\"\n"
     ]
    },
    {
     "name": "stdout",
     "output_type": "stream",
     "text": [
      "\n",
      "The elapsed time is 0 H: 0 M: 0.204 S\n",
      "\n",
      "20\n",
      "The elapsed time is 0 H: 0 M: 0.208 S\n",
      "\n"
     ]
    },
    {
     "name": "stderr",
     "output_type": "stream",
     "text": [
      "C:\\Users\\abhig\\anaconda3\\envs\\agency\\lib\\site-packages\\sklearn\\cluster\\_kmeans.py:938: FutureWarning: 'n_jobs' was deprecated in version 0.23 and will be removed in 0.25.\n",
      "  warnings.warn(\"'n_jobs' was deprecated in version 0.23 and will be\"\n",
      "C:\\Users\\abhig\\anaconda3\\envs\\agency\\lib\\site-packages\\sklearn\\cluster\\_kmeans.py:938: FutureWarning: 'n_jobs' was deprecated in version 0.23 and will be removed in 0.25.\n",
      "  warnings.warn(\"'n_jobs' was deprecated in version 0.23 and will be\"\n",
      "C:\\Users\\abhig\\anaconda3\\envs\\agency\\lib\\site-packages\\sklearn\\cluster\\_kmeans.py:938: FutureWarning: 'n_jobs' was deprecated in version 0.23 and will be removed in 0.25.\n",
      "  warnings.warn(\"'n_jobs' was deprecated in version 0.23 and will be\"\n"
     ]
    },
    {
     "name": "stdout",
     "output_type": "stream",
     "text": [
      "21\n",
      "The elapsed time is 0 H: 0 M: 0.166 S\n",
      "\n",
      "22\n",
      "The elapsed time is 0 H: 0 M: 0.207 S\n",
      "\n"
     ]
    },
    {
     "name": "stderr",
     "output_type": "stream",
     "text": [
      "C:\\Users\\abhig\\anaconda3\\envs\\agency\\lib\\site-packages\\sklearn\\cluster\\_kmeans.py:938: FutureWarning: 'n_jobs' was deprecated in version 0.23 and will be removed in 0.25.\n",
      "  warnings.warn(\"'n_jobs' was deprecated in version 0.23 and will be\"\n"
     ]
    },
    {
     "name": "stdout",
     "output_type": "stream",
     "text": [
      "23\n",
      "The elapsed time is 0 H: 0 M: 0.264 S\n",
      "\n"
     ]
    },
    {
     "name": "stderr",
     "output_type": "stream",
     "text": [
      "C:\\Users\\abhig\\anaconda3\\envs\\agency\\lib\\site-packages\\sklearn\\cluster\\_kmeans.py:938: FutureWarning: 'n_jobs' was deprecated in version 0.23 and will be removed in 0.25.\n",
      "  warnings.warn(\"'n_jobs' was deprecated in version 0.23 and will be\"\n"
     ]
    },
    {
     "name": "stdout",
     "output_type": "stream",
     "text": [
      "24\n",
      "The elapsed time is 0 H: 0 M: 0.241 S\n",
      "\n"
     ]
    },
    {
     "name": "stderr",
     "output_type": "stream",
     "text": [
      "C:\\Users\\abhig\\anaconda3\\envs\\agency\\lib\\site-packages\\sklearn\\cluster\\_kmeans.py:938: FutureWarning: 'n_jobs' was deprecated in version 0.23 and will be removed in 0.25.\n",
      "  warnings.warn(\"'n_jobs' was deprecated in version 0.23 and will be\"\n"
     ]
    },
    {
     "name": "stdout",
     "output_type": "stream",
     "text": [
      "25\n",
      "The elapsed time is 0 H: 0 M: 0.3 S\n",
      "\n"
     ]
    },
    {
     "name": "stderr",
     "output_type": "stream",
     "text": [
      "C:\\Users\\abhig\\anaconda3\\envs\\agency\\lib\\site-packages\\sklearn\\cluster\\_kmeans.py:938: FutureWarning: 'n_jobs' was deprecated in version 0.23 and will be removed in 0.25.\n",
      "  warnings.warn(\"'n_jobs' was deprecated in version 0.23 and will be\"\n"
     ]
    },
    {
     "name": "stdout",
     "output_type": "stream",
     "text": [
      "26\n",
      "The elapsed time is 0 H: 0 M: 0.253 S\n",
      "\n"
     ]
    },
    {
     "name": "stderr",
     "output_type": "stream",
     "text": [
      "C:\\Users\\abhig\\anaconda3\\envs\\agency\\lib\\site-packages\\sklearn\\cluster\\_kmeans.py:938: FutureWarning: 'n_jobs' was deprecated in version 0.23 and will be removed in 0.25.\n",
      "  warnings.warn(\"'n_jobs' was deprecated in version 0.23 and will be\"\n"
     ]
    },
    {
     "name": "stdout",
     "output_type": "stream",
     "text": [
      "27\n",
      "The elapsed time is 0 H: 0 M: 0.278 S\n",
      "\n"
     ]
    },
    {
     "name": "stderr",
     "output_type": "stream",
     "text": [
      "C:\\Users\\abhig\\anaconda3\\envs\\agency\\lib\\site-packages\\sklearn\\cluster\\_kmeans.py:938: FutureWarning: 'n_jobs' was deprecated in version 0.23 and will be removed in 0.25.\n",
      "  warnings.warn(\"'n_jobs' was deprecated in version 0.23 and will be\"\n"
     ]
    },
    {
     "name": "stdout",
     "output_type": "stream",
     "text": [
      "28\n",
      "The elapsed time is 0 H: 0 M: 0.3 S\n",
      "\n"
     ]
    },
    {
     "name": "stderr",
     "output_type": "stream",
     "text": [
      "C:\\Users\\abhig\\anaconda3\\envs\\agency\\lib\\site-packages\\sklearn\\cluster\\_kmeans.py:938: FutureWarning: 'n_jobs' was deprecated in version 0.23 and will be removed in 0.25.\n",
      "  warnings.warn(\"'n_jobs' was deprecated in version 0.23 and will be\"\n"
     ]
    },
    {
     "name": "stdout",
     "output_type": "stream",
     "text": [
      "29\n",
      "The elapsed time is 0 H: 0 M: 0.299 S\n",
      "\n"
     ]
    },
    {
     "name": "stderr",
     "output_type": "stream",
     "text": [
      "C:\\Users\\abhig\\anaconda3\\envs\\agency\\lib\\site-packages\\sklearn\\cluster\\_kmeans.py:938: FutureWarning: 'n_jobs' was deprecated in version 0.23 and will be removed in 0.25.\n",
      "  warnings.warn(\"'n_jobs' was deprecated in version 0.23 and will be\"\n"
     ]
    },
    {
     "name": "stdout",
     "output_type": "stream",
     "text": [
      "30\n",
      "The elapsed time is 0 H: 0 M: 0.276 S\n",
      "\n"
     ]
    },
    {
     "name": "stderr",
     "output_type": "stream",
     "text": [
      "C:\\Users\\abhig\\anaconda3\\envs\\agency\\lib\\site-packages\\sklearn\\cluster\\_kmeans.py:938: FutureWarning: 'n_jobs' was deprecated in version 0.23 and will be removed in 0.25.\n",
      "  warnings.warn(\"'n_jobs' was deprecated in version 0.23 and will be\"\n"
     ]
    },
    {
     "name": "stdout",
     "output_type": "stream",
     "text": [
      "31\n",
      "The elapsed time is 0 H: 0 M: 0.277 S\n",
      "\n"
     ]
    },
    {
     "name": "stderr",
     "output_type": "stream",
     "text": [
      "C:\\Users\\abhig\\anaconda3\\envs\\agency\\lib\\site-packages\\sklearn\\cluster\\_kmeans.py:938: FutureWarning: 'n_jobs' was deprecated in version 0.23 and will be removed in 0.25.\n",
      "  warnings.warn(\"'n_jobs' was deprecated in version 0.23 and will be\"\n"
     ]
    },
    {
     "name": "stdout",
     "output_type": "stream",
     "text": [
      "32\n",
      "The elapsed time is 0 H: 0 M: 0.285 S\n",
      "\n"
     ]
    },
    {
     "name": "stderr",
     "output_type": "stream",
     "text": [
      "C:\\Users\\abhig\\anaconda3\\envs\\agency\\lib\\site-packages\\sklearn\\cluster\\_kmeans.py:938: FutureWarning: 'n_jobs' was deprecated in version 0.23 and will be removed in 0.25.\n",
      "  warnings.warn(\"'n_jobs' was deprecated in version 0.23 and will be\"\n"
     ]
    },
    {
     "name": "stdout",
     "output_type": "stream",
     "text": [
      "33\n",
      "The elapsed time is 0 H: 0 M: 0.371 S\n",
      "\n"
     ]
    },
    {
     "name": "stderr",
     "output_type": "stream",
     "text": [
      "C:\\Users\\abhig\\anaconda3\\envs\\agency\\lib\\site-packages\\sklearn\\cluster\\_kmeans.py:938: FutureWarning: 'n_jobs' was deprecated in version 0.23 and will be removed in 0.25.\n",
      "  warnings.warn(\"'n_jobs' was deprecated in version 0.23 and will be\"\n"
     ]
    },
    {
     "name": "stdout",
     "output_type": "stream",
     "text": [
      "34\n",
      "The elapsed time is 0 H: 0 M: 0.3 S\n",
      "\n"
     ]
    },
    {
     "name": "stderr",
     "output_type": "stream",
     "text": [
      "C:\\Users\\abhig\\anaconda3\\envs\\agency\\lib\\site-packages\\sklearn\\cluster\\_kmeans.py:938: FutureWarning: 'n_jobs' was deprecated in version 0.23 and will be removed in 0.25.\n",
      "  warnings.warn(\"'n_jobs' was deprecated in version 0.23 and will be\"\n"
     ]
    },
    {
     "name": "stdout",
     "output_type": "stream",
     "text": [
      "35\n",
      "The elapsed time is 0 H: 0 M: 0.281 S\n",
      "\n"
     ]
    },
    {
     "name": "stderr",
     "output_type": "stream",
     "text": [
      "C:\\Users\\abhig\\anaconda3\\envs\\agency\\lib\\site-packages\\sklearn\\cluster\\_kmeans.py:938: FutureWarning: 'n_jobs' was deprecated in version 0.23 and will be removed in 0.25.\n",
      "  warnings.warn(\"'n_jobs' was deprecated in version 0.23 and will be\"\n"
     ]
    },
    {
     "name": "stdout",
     "output_type": "stream",
     "text": [
      "36\n",
      "The elapsed time is 0 H: 0 M: 0.273 S\n",
      "\n"
     ]
    },
    {
     "name": "stderr",
     "output_type": "stream",
     "text": [
      "C:\\Users\\abhig\\anaconda3\\envs\\agency\\lib\\site-packages\\sklearn\\cluster\\_kmeans.py:938: FutureWarning: 'n_jobs' was deprecated in version 0.23 and will be removed in 0.25.\n",
      "  warnings.warn(\"'n_jobs' was deprecated in version 0.23 and will be\"\n"
     ]
    },
    {
     "name": "stdout",
     "output_type": "stream",
     "text": [
      "37\n",
      "The elapsed time is 0 H: 0 M: 0.274 S\n",
      "\n"
     ]
    },
    {
     "name": "stderr",
     "output_type": "stream",
     "text": [
      "C:\\Users\\abhig\\anaconda3\\envs\\agency\\lib\\site-packages\\sklearn\\cluster\\_kmeans.py:938: FutureWarning: 'n_jobs' was deprecated in version 0.23 and will be removed in 0.25.\n",
      "  warnings.warn(\"'n_jobs' was deprecated in version 0.23 and will be\"\n"
     ]
    },
    {
     "name": "stdout",
     "output_type": "stream",
     "text": [
      "38\n",
      "The elapsed time is 0 H: 0 M: 0.254 S\n",
      "\n"
     ]
    },
    {
     "name": "stderr",
     "output_type": "stream",
     "text": [
      "C:\\Users\\abhig\\anaconda3\\envs\\agency\\lib\\site-packages\\sklearn\\cluster\\_kmeans.py:938: FutureWarning: 'n_jobs' was deprecated in version 0.23 and will be removed in 0.25.\n",
      "  warnings.warn(\"'n_jobs' was deprecated in version 0.23 and will be\"\n"
     ]
    },
    {
     "name": "stdout",
     "output_type": "stream",
     "text": [
      "39\n",
      "The elapsed time is 0 H: 0 M: 0.266 S\n",
      "\n"
     ]
    },
    {
     "name": "stderr",
     "output_type": "stream",
     "text": [
      "C:\\Users\\abhig\\anaconda3\\envs\\agency\\lib\\site-packages\\sklearn\\cluster\\_kmeans.py:938: FutureWarning: 'n_jobs' was deprecated in version 0.23 and will be removed in 0.25.\n",
      "  warnings.warn(\"'n_jobs' was deprecated in version 0.23 and will be\"\n"
     ]
    },
    {
     "name": "stdout",
     "output_type": "stream",
     "text": [
      "40\n",
      "The elapsed time is 0 H: 0 M: 0.323 S\n",
      "\n"
     ]
    },
    {
     "name": "stderr",
     "output_type": "stream",
     "text": [
      "C:\\Users\\abhig\\anaconda3\\envs\\agency\\lib\\site-packages\\sklearn\\cluster\\_kmeans.py:938: FutureWarning: 'n_jobs' was deprecated in version 0.23 and will be removed in 0.25.\n",
      "  warnings.warn(\"'n_jobs' was deprecated in version 0.23 and will be\"\n"
     ]
    },
    {
     "name": "stdout",
     "output_type": "stream",
     "text": [
      "41\n",
      "The elapsed time is 0 H: 0 M: 0.39 S\n",
      "\n"
     ]
    },
    {
     "name": "stderr",
     "output_type": "stream",
     "text": [
      "C:\\Users\\abhig\\anaconda3\\envs\\agency\\lib\\site-packages\\sklearn\\cluster\\_kmeans.py:938: FutureWarning: 'n_jobs' was deprecated in version 0.23 and will be removed in 0.25.\n",
      "  warnings.warn(\"'n_jobs' was deprecated in version 0.23 and will be\"\n"
     ]
    },
    {
     "name": "stdout",
     "output_type": "stream",
     "text": [
      "42\n",
      "The elapsed time is 0 H: 0 M: 0.516 S\n",
      "\n"
     ]
    },
    {
     "name": "stderr",
     "output_type": "stream",
     "text": [
      "C:\\Users\\abhig\\anaconda3\\envs\\agency\\lib\\site-packages\\sklearn\\cluster\\_kmeans.py:938: FutureWarning: 'n_jobs' was deprecated in version 0.23 and will be removed in 0.25.\n",
      "  warnings.warn(\"'n_jobs' was deprecated in version 0.23 and will be\"\n"
     ]
    },
    {
     "name": "stdout",
     "output_type": "stream",
     "text": [
      "43\n",
      "The elapsed time is 0 H: 0 M: 0.65 S\n",
      "\n"
     ]
    },
    {
     "name": "stderr",
     "output_type": "stream",
     "text": [
      "C:\\Users\\abhig\\anaconda3\\envs\\agency\\lib\\site-packages\\sklearn\\cluster\\_kmeans.py:938: FutureWarning: 'n_jobs' was deprecated in version 0.23 and will be removed in 0.25.\n",
      "  warnings.warn(\"'n_jobs' was deprecated in version 0.23 and will be\"\n"
     ]
    },
    {
     "name": "stdout",
     "output_type": "stream",
     "text": [
      "44\n",
      "The elapsed time is 0 H: 0 M: 0.489 S\n",
      "\n"
     ]
    },
    {
     "name": "stderr",
     "output_type": "stream",
     "text": [
      "C:\\Users\\abhig\\anaconda3\\envs\\agency\\lib\\site-packages\\sklearn\\cluster\\_kmeans.py:938: FutureWarning: 'n_jobs' was deprecated in version 0.23 and will be removed in 0.25.\n",
      "  warnings.warn(\"'n_jobs' was deprecated in version 0.23 and will be\"\n"
     ]
    },
    {
     "name": "stdout",
     "output_type": "stream",
     "text": [
      "45\n",
      "The elapsed time is 0 H: 0 M: 0.547 S\n",
      "\n"
     ]
    },
    {
     "name": "stderr",
     "output_type": "stream",
     "text": [
      "C:\\Users\\abhig\\anaconda3\\envs\\agency\\lib\\site-packages\\sklearn\\cluster\\_kmeans.py:938: FutureWarning: 'n_jobs' was deprecated in version 0.23 and will be removed in 0.25.\n",
      "  warnings.warn(\"'n_jobs' was deprecated in version 0.23 and will be\"\n"
     ]
    },
    {
     "name": "stdout",
     "output_type": "stream",
     "text": [
      "46\n",
      "The elapsed time is 0 H: 0 M: 0.979 S\n",
      "\n"
     ]
    },
    {
     "name": "stderr",
     "output_type": "stream",
     "text": [
      "C:\\Users\\abhig\\anaconda3\\envs\\agency\\lib\\site-packages\\sklearn\\cluster\\_kmeans.py:938: FutureWarning: 'n_jobs' was deprecated in version 0.23 and will be removed in 0.25.\n",
      "  warnings.warn(\"'n_jobs' was deprecated in version 0.23 and will be\"\n"
     ]
    },
    {
     "name": "stdout",
     "output_type": "stream",
     "text": [
      "47\n",
      "The elapsed time is 0 H: 0 M: 0.951 S\n",
      "\n"
     ]
    },
    {
     "name": "stderr",
     "output_type": "stream",
     "text": [
      "C:\\Users\\abhig\\anaconda3\\envs\\agency\\lib\\site-packages\\sklearn\\cluster\\_kmeans.py:938: FutureWarning: 'n_jobs' was deprecated in version 0.23 and will be removed in 0.25.\n",
      "  warnings.warn(\"'n_jobs' was deprecated in version 0.23 and will be\"\n"
     ]
    },
    {
     "name": "stdout",
     "output_type": "stream",
     "text": [
      "48\n",
      "The elapsed time is 0 H: 0 M: 0.562 S\n",
      "\n"
     ]
    },
    {
     "name": "stderr",
     "output_type": "stream",
     "text": [
      "C:\\Users\\abhig\\anaconda3\\envs\\agency\\lib\\site-packages\\sklearn\\cluster\\_kmeans.py:938: FutureWarning: 'n_jobs' was deprecated in version 0.23 and will be removed in 0.25.\n",
      "  warnings.warn(\"'n_jobs' was deprecated in version 0.23 and will be\"\n"
     ]
    },
    {
     "name": "stdout",
     "output_type": "stream",
     "text": [
      "49\n",
      "The elapsed time is 0 H: 0 M: 0.452 S\n",
      "\n"
     ]
    },
    {
     "name": "stderr",
     "output_type": "stream",
     "text": [
      "C:\\Users\\abhig\\anaconda3\\envs\\agency\\lib\\site-packages\\sklearn\\cluster\\_kmeans.py:938: FutureWarning: 'n_jobs' was deprecated in version 0.23 and will be removed in 0.25.\n",
      "  warnings.warn(\"'n_jobs' was deprecated in version 0.23 and will be\"\n"
     ]
    },
    {
     "name": "stdout",
     "output_type": "stream",
     "text": [
      "50\n",
      "The elapsed time is 0 H: 0 M: 0.521 S\n",
      "\n"
     ]
    },
    {
     "name": "stderr",
     "output_type": "stream",
     "text": [
      "C:\\Users\\abhig\\anaconda3\\envs\\agency\\lib\\site-packages\\sklearn\\cluster\\_kmeans.py:938: FutureWarning: 'n_jobs' was deprecated in version 0.23 and will be removed in 0.25.\n",
      "  warnings.warn(\"'n_jobs' was deprecated in version 0.23 and will be\"\n"
     ]
    },
    {
     "name": "stdout",
     "output_type": "stream",
     "text": [
      "51\n",
      "The elapsed time is 0 H: 0 M: 0.412 S\n",
      "\n"
     ]
    },
    {
     "name": "stderr",
     "output_type": "stream",
     "text": [
      "C:\\Users\\abhig\\anaconda3\\envs\\agency\\lib\\site-packages\\sklearn\\cluster\\_kmeans.py:938: FutureWarning: 'n_jobs' was deprecated in version 0.23 and will be removed in 0.25.\n",
      "  warnings.warn(\"'n_jobs' was deprecated in version 0.23 and will be\"\n"
     ]
    },
    {
     "name": "stdout",
     "output_type": "stream",
     "text": [
      "52\n",
      "The elapsed time is 0 H: 0 M: 0.382 S\n",
      "\n"
     ]
    },
    {
     "name": "stderr",
     "output_type": "stream",
     "text": [
      "C:\\Users\\abhig\\anaconda3\\envs\\agency\\lib\\site-packages\\sklearn\\cluster\\_kmeans.py:938: FutureWarning: 'n_jobs' was deprecated in version 0.23 and will be removed in 0.25.\n",
      "  warnings.warn(\"'n_jobs' was deprecated in version 0.23 and will be\"\n"
     ]
    },
    {
     "name": "stdout",
     "output_type": "stream",
     "text": [
      "53\n",
      "The elapsed time is 0 H: 0 M: 0.374 S\n",
      "\n"
     ]
    },
    {
     "name": "stderr",
     "output_type": "stream",
     "text": [
      "C:\\Users\\abhig\\anaconda3\\envs\\agency\\lib\\site-packages\\sklearn\\cluster\\_kmeans.py:938: FutureWarning: 'n_jobs' was deprecated in version 0.23 and will be removed in 0.25.\n",
      "  warnings.warn(\"'n_jobs' was deprecated in version 0.23 and will be\"\n"
     ]
    },
    {
     "name": "stdout",
     "output_type": "stream",
     "text": [
      "54\n",
      "The elapsed time is 0 H: 0 M: 0.387 S\n",
      "\n"
     ]
    },
    {
     "name": "stderr",
     "output_type": "stream",
     "text": [
      "C:\\Users\\abhig\\anaconda3\\envs\\agency\\lib\\site-packages\\sklearn\\cluster\\_kmeans.py:938: FutureWarning: 'n_jobs' was deprecated in version 0.23 and will be removed in 0.25.\n",
      "  warnings.warn(\"'n_jobs' was deprecated in version 0.23 and will be\"\n"
     ]
    },
    {
     "name": "stdout",
     "output_type": "stream",
     "text": [
      "55\n",
      "The elapsed time is 0 H: 0 M: 0.366 S\n",
      "\n"
     ]
    },
    {
     "name": "stderr",
     "output_type": "stream",
     "text": [
      "C:\\Users\\abhig\\anaconda3\\envs\\agency\\lib\\site-packages\\sklearn\\cluster\\_kmeans.py:938: FutureWarning: 'n_jobs' was deprecated in version 0.23 and will be removed in 0.25.\n",
      "  warnings.warn(\"'n_jobs' was deprecated in version 0.23 and will be\"\n"
     ]
    },
    {
     "name": "stdout",
     "output_type": "stream",
     "text": [
      "56\n",
      "The elapsed time is 0 H: 0 M: 0.401 S\n",
      "\n"
     ]
    },
    {
     "name": "stderr",
     "output_type": "stream",
     "text": [
      "C:\\Users\\abhig\\anaconda3\\envs\\agency\\lib\\site-packages\\sklearn\\cluster\\_kmeans.py:938: FutureWarning: 'n_jobs' was deprecated in version 0.23 and will be removed in 0.25.\n",
      "  warnings.warn(\"'n_jobs' was deprecated in version 0.23 and will be\"\n"
     ]
    },
    {
     "name": "stdout",
     "output_type": "stream",
     "text": [
      "57\n",
      "The elapsed time is 0 H: 0 M: 0.373 S\n",
      "\n"
     ]
    },
    {
     "name": "stderr",
     "output_type": "stream",
     "text": [
      "C:\\Users\\abhig\\anaconda3\\envs\\agency\\lib\\site-packages\\sklearn\\cluster\\_kmeans.py:938: FutureWarning: 'n_jobs' was deprecated in version 0.23 and will be removed in 0.25.\n",
      "  warnings.warn(\"'n_jobs' was deprecated in version 0.23 and will be\"\n"
     ]
    },
    {
     "name": "stdout",
     "output_type": "stream",
     "text": [
      "58\n",
      "The elapsed time is 0 H: 0 M: 0.524 S\n",
      "\n"
     ]
    },
    {
     "name": "stderr",
     "output_type": "stream",
     "text": [
      "C:\\Users\\abhig\\anaconda3\\envs\\agency\\lib\\site-packages\\sklearn\\cluster\\_kmeans.py:938: FutureWarning: 'n_jobs' was deprecated in version 0.23 and will be removed in 0.25.\n",
      "  warnings.warn(\"'n_jobs' was deprecated in version 0.23 and will be\"\n"
     ]
    },
    {
     "name": "stdout",
     "output_type": "stream",
     "text": [
      "59\n",
      "The elapsed time is 0 H: 0 M: 0.805 S\n",
      "\n"
     ]
    },
    {
     "name": "stderr",
     "output_type": "stream",
     "text": [
      "C:\\Users\\abhig\\anaconda3\\envs\\agency\\lib\\site-packages\\sklearn\\cluster\\_kmeans.py:938: FutureWarning: 'n_jobs' was deprecated in version 0.23 and will be removed in 0.25.\n",
      "  warnings.warn(\"'n_jobs' was deprecated in version 0.23 and will be\"\n"
     ]
    },
    {
     "name": "stdout",
     "output_type": "stream",
     "text": [
      "60\n",
      "The elapsed time is 0 H: 0 M: 0.727 S\n",
      "\n"
     ]
    },
    {
     "name": "stderr",
     "output_type": "stream",
     "text": [
      "C:\\Users\\abhig\\anaconda3\\envs\\agency\\lib\\site-packages\\sklearn\\cluster\\_kmeans.py:938: FutureWarning: 'n_jobs' was deprecated in version 0.23 and will be removed in 0.25.\n",
      "  warnings.warn(\"'n_jobs' was deprecated in version 0.23 and will be\"\n"
     ]
    },
    {
     "name": "stdout",
     "output_type": "stream",
     "text": [
      "61\n",
      "The elapsed time is 0 H: 0 M: 0.507 S\n",
      "\n"
     ]
    },
    {
     "name": "stderr",
     "output_type": "stream",
     "text": [
      "C:\\Users\\abhig\\anaconda3\\envs\\agency\\lib\\site-packages\\sklearn\\cluster\\_kmeans.py:938: FutureWarning: 'n_jobs' was deprecated in version 0.23 and will be removed in 0.25.\n",
      "  warnings.warn(\"'n_jobs' was deprecated in version 0.23 and will be\"\n"
     ]
    },
    {
     "name": "stdout",
     "output_type": "stream",
     "text": [
      "62\n",
      "The elapsed time is 0 H: 0 M: 0.435 S\n",
      "\n"
     ]
    },
    {
     "name": "stderr",
     "output_type": "stream",
     "text": [
      "C:\\Users\\abhig\\anaconda3\\envs\\agency\\lib\\site-packages\\sklearn\\cluster\\_kmeans.py:938: FutureWarning: 'n_jobs' was deprecated in version 0.23 and will be removed in 0.25.\n",
      "  warnings.warn(\"'n_jobs' was deprecated in version 0.23 and will be\"\n"
     ]
    },
    {
     "name": "stdout",
     "output_type": "stream",
     "text": [
      "63\n",
      "The elapsed time is 0 H: 0 M: 0.423 S\n",
      "\n"
     ]
    },
    {
     "name": "stderr",
     "output_type": "stream",
     "text": [
      "C:\\Users\\abhig\\anaconda3\\envs\\agency\\lib\\site-packages\\sklearn\\cluster\\_kmeans.py:938: FutureWarning: 'n_jobs' was deprecated in version 0.23 and will be removed in 0.25.\n",
      "  warnings.warn(\"'n_jobs' was deprecated in version 0.23 and will be\"\n"
     ]
    },
    {
     "name": "stdout",
     "output_type": "stream",
     "text": [
      "64\n",
      "The elapsed time is 0 H: 0 M: 0.419 S\n",
      "\n"
     ]
    },
    {
     "name": "stderr",
     "output_type": "stream",
     "text": [
      "C:\\Users\\abhig\\anaconda3\\envs\\agency\\lib\\site-packages\\sklearn\\cluster\\_kmeans.py:938: FutureWarning: 'n_jobs' was deprecated in version 0.23 and will be removed in 0.25.\n",
      "  warnings.warn(\"'n_jobs' was deprecated in version 0.23 and will be\"\n"
     ]
    },
    {
     "name": "stdout",
     "output_type": "stream",
     "text": [
      "65\n",
      "The elapsed time is 0 H: 0 M: 0.408 S\n",
      "\n"
     ]
    },
    {
     "name": "stderr",
     "output_type": "stream",
     "text": [
      "C:\\Users\\abhig\\anaconda3\\envs\\agency\\lib\\site-packages\\sklearn\\cluster\\_kmeans.py:938: FutureWarning: 'n_jobs' was deprecated in version 0.23 and will be removed in 0.25.\n",
      "  warnings.warn(\"'n_jobs' was deprecated in version 0.23 and will be\"\n"
     ]
    },
    {
     "name": "stdout",
     "output_type": "stream",
     "text": [
      "66\n",
      "The elapsed time is 0 H: 0 M: 0.406 S\n",
      "\n"
     ]
    },
    {
     "name": "stderr",
     "output_type": "stream",
     "text": [
      "C:\\Users\\abhig\\anaconda3\\envs\\agency\\lib\\site-packages\\sklearn\\cluster\\_kmeans.py:938: FutureWarning: 'n_jobs' was deprecated in version 0.23 and will be removed in 0.25.\n",
      "  warnings.warn(\"'n_jobs' was deprecated in version 0.23 and will be\"\n"
     ]
    },
    {
     "name": "stdout",
     "output_type": "stream",
     "text": [
      "67\n",
      "The elapsed time is 0 H: 0 M: 0.452 S\n",
      "\n"
     ]
    },
    {
     "name": "stderr",
     "output_type": "stream",
     "text": [
      "C:\\Users\\abhig\\anaconda3\\envs\\agency\\lib\\site-packages\\sklearn\\cluster\\_kmeans.py:938: FutureWarning: 'n_jobs' was deprecated in version 0.23 and will be removed in 0.25.\n",
      "  warnings.warn(\"'n_jobs' was deprecated in version 0.23 and will be\"\n"
     ]
    },
    {
     "name": "stdout",
     "output_type": "stream",
     "text": [
      "68\n",
      "The elapsed time is 0 H: 0 M: 0.554 S\n",
      "\n"
     ]
    },
    {
     "name": "stderr",
     "output_type": "stream",
     "text": [
      "C:\\Users\\abhig\\anaconda3\\envs\\agency\\lib\\site-packages\\sklearn\\cluster\\_kmeans.py:938: FutureWarning: 'n_jobs' was deprecated in version 0.23 and will be removed in 0.25.\n",
      "  warnings.warn(\"'n_jobs' was deprecated in version 0.23 and will be\"\n"
     ]
    },
    {
     "name": "stdout",
     "output_type": "stream",
     "text": [
      "69\n",
      "The elapsed time is 0 H: 0 M: 0.587 S\n",
      "\n"
     ]
    },
    {
     "name": "stderr",
     "output_type": "stream",
     "text": [
      "C:\\Users\\abhig\\anaconda3\\envs\\agency\\lib\\site-packages\\sklearn\\cluster\\_kmeans.py:938: FutureWarning: 'n_jobs' was deprecated in version 0.23 and will be removed in 0.25.\n",
      "  warnings.warn(\"'n_jobs' was deprecated in version 0.23 and will be\"\n"
     ]
    },
    {
     "name": "stdout",
     "output_type": "stream",
     "text": [
      "70\n",
      "The elapsed time is 0 H: 0 M: 0.603 S\n",
      "\n"
     ]
    },
    {
     "name": "stderr",
     "output_type": "stream",
     "text": [
      "C:\\Users\\abhig\\anaconda3\\envs\\agency\\lib\\site-packages\\sklearn\\cluster\\_kmeans.py:938: FutureWarning: 'n_jobs' was deprecated in version 0.23 and will be removed in 0.25.\n",
      "  warnings.warn(\"'n_jobs' was deprecated in version 0.23 and will be\"\n"
     ]
    },
    {
     "name": "stdout",
     "output_type": "stream",
     "text": [
      "71\n",
      "The elapsed time is 0 H: 0 M: 1.05 S\n",
      "\n"
     ]
    },
    {
     "name": "stderr",
     "output_type": "stream",
     "text": [
      "C:\\Users\\abhig\\anaconda3\\envs\\agency\\lib\\site-packages\\sklearn\\cluster\\_kmeans.py:938: FutureWarning: 'n_jobs' was deprecated in version 0.23 and will be removed in 0.25.\n",
      "  warnings.warn(\"'n_jobs' was deprecated in version 0.23 and will be\"\n"
     ]
    },
    {
     "name": "stdout",
     "output_type": "stream",
     "text": [
      "72\n",
      "The elapsed time is 0 H: 0 M: 1.204 S\n",
      "\n"
     ]
    },
    {
     "name": "stderr",
     "output_type": "stream",
     "text": [
      "C:\\Users\\abhig\\anaconda3\\envs\\agency\\lib\\site-packages\\sklearn\\cluster\\_kmeans.py:938: FutureWarning: 'n_jobs' was deprecated in version 0.23 and will be removed in 0.25.\n",
      "  warnings.warn(\"'n_jobs' was deprecated in version 0.23 and will be\"\n"
     ]
    },
    {
     "name": "stdout",
     "output_type": "stream",
     "text": [
      "73\n",
      "The elapsed time is 0 H: 0 M: 1.075 S\n",
      "\n"
     ]
    },
    {
     "name": "stderr",
     "output_type": "stream",
     "text": [
      "C:\\Users\\abhig\\anaconda3\\envs\\agency\\lib\\site-packages\\sklearn\\cluster\\_kmeans.py:938: FutureWarning: 'n_jobs' was deprecated in version 0.23 and will be removed in 0.25.\n",
      "  warnings.warn(\"'n_jobs' was deprecated in version 0.23 and will be\"\n"
     ]
    },
    {
     "name": "stdout",
     "output_type": "stream",
     "text": [
      "74\n",
      "The elapsed time is 0 H: 0 M: 1.311 S\n",
      "\n"
     ]
    },
    {
     "name": "stderr",
     "output_type": "stream",
     "text": [
      "C:\\Users\\abhig\\anaconda3\\envs\\agency\\lib\\site-packages\\sklearn\\cluster\\_kmeans.py:938: FutureWarning: 'n_jobs' was deprecated in version 0.23 and will be removed in 0.25.\n",
      "  warnings.warn(\"'n_jobs' was deprecated in version 0.23 and will be\"\n"
     ]
    },
    {
     "name": "stdout",
     "output_type": "stream",
     "text": [
      "75\n",
      "The elapsed time is 0 H: 0 M: 0.904 S\n",
      "\n"
     ]
    },
    {
     "name": "stderr",
     "output_type": "stream",
     "text": [
      "C:\\Users\\abhig\\anaconda3\\envs\\agency\\lib\\site-packages\\sklearn\\cluster\\_kmeans.py:938: FutureWarning: 'n_jobs' was deprecated in version 0.23 and will be removed in 0.25.\n",
      "  warnings.warn(\"'n_jobs' was deprecated in version 0.23 and will be\"\n"
     ]
    },
    {
     "name": "stdout",
     "output_type": "stream",
     "text": [
      "76\n",
      "The elapsed time is 0 H: 0 M: 0.691 S\n",
      "\n"
     ]
    },
    {
     "name": "stderr",
     "output_type": "stream",
     "text": [
      "C:\\Users\\abhig\\anaconda3\\envs\\agency\\lib\\site-packages\\sklearn\\cluster\\_kmeans.py:938: FutureWarning: 'n_jobs' was deprecated in version 0.23 and will be removed in 0.25.\n",
      "  warnings.warn(\"'n_jobs' was deprecated in version 0.23 and will be\"\n"
     ]
    },
    {
     "name": "stdout",
     "output_type": "stream",
     "text": [
      "77\n",
      "The elapsed time is 0 H: 0 M: 0.637 S\n",
      "\n"
     ]
    },
    {
     "name": "stderr",
     "output_type": "stream",
     "text": [
      "C:\\Users\\abhig\\anaconda3\\envs\\agency\\lib\\site-packages\\sklearn\\cluster\\_kmeans.py:938: FutureWarning: 'n_jobs' was deprecated in version 0.23 and will be removed in 0.25.\n",
      "  warnings.warn(\"'n_jobs' was deprecated in version 0.23 and will be\"\n"
     ]
    },
    {
     "name": "stdout",
     "output_type": "stream",
     "text": [
      "78\n",
      "The elapsed time is 0 H: 0 M: 0.558 S\n",
      "\n"
     ]
    },
    {
     "name": "stderr",
     "output_type": "stream",
     "text": [
      "C:\\Users\\abhig\\anaconda3\\envs\\agency\\lib\\site-packages\\sklearn\\cluster\\_kmeans.py:938: FutureWarning: 'n_jobs' was deprecated in version 0.23 and will be removed in 0.25.\n",
      "  warnings.warn(\"'n_jobs' was deprecated in version 0.23 and will be\"\n"
     ]
    },
    {
     "name": "stdout",
     "output_type": "stream",
     "text": [
      "79\n",
      "The elapsed time is 0 H: 0 M: 0.607 S\n",
      "\n"
     ]
    },
    {
     "name": "stderr",
     "output_type": "stream",
     "text": [
      "C:\\Users\\abhig\\anaconda3\\envs\\agency\\lib\\site-packages\\sklearn\\cluster\\_kmeans.py:938: FutureWarning: 'n_jobs' was deprecated in version 0.23 and will be removed in 0.25.\n",
      "  warnings.warn(\"'n_jobs' was deprecated in version 0.23 and will be\"\n"
     ]
    },
    {
     "name": "stdout",
     "output_type": "stream",
     "text": [
      "80\n",
      "The elapsed time is 0 H: 0 M: 0.604 S\n",
      "\n"
     ]
    },
    {
     "name": "stderr",
     "output_type": "stream",
     "text": [
      "C:\\Users\\abhig\\anaconda3\\envs\\agency\\lib\\site-packages\\sklearn\\cluster\\_kmeans.py:938: FutureWarning: 'n_jobs' was deprecated in version 0.23 and will be removed in 0.25.\n",
      "  warnings.warn(\"'n_jobs' was deprecated in version 0.23 and will be\"\n"
     ]
    },
    {
     "name": "stdout",
     "output_type": "stream",
     "text": [
      "81\n",
      "The elapsed time is 0 H: 0 M: 0.559 S\n",
      "\n"
     ]
    },
    {
     "name": "stderr",
     "output_type": "stream",
     "text": [
      "C:\\Users\\abhig\\anaconda3\\envs\\agency\\lib\\site-packages\\sklearn\\cluster\\_kmeans.py:938: FutureWarning: 'n_jobs' was deprecated in version 0.23 and will be removed in 0.25.\n",
      "  warnings.warn(\"'n_jobs' was deprecated in version 0.23 and will be\"\n"
     ]
    },
    {
     "name": "stdout",
     "output_type": "stream",
     "text": [
      "82\n",
      "The elapsed time is 0 H: 0 M: 0.584 S\n",
      "\n"
     ]
    },
    {
     "name": "stderr",
     "output_type": "stream",
     "text": [
      "C:\\Users\\abhig\\anaconda3\\envs\\agency\\lib\\site-packages\\sklearn\\cluster\\_kmeans.py:938: FutureWarning: 'n_jobs' was deprecated in version 0.23 and will be removed in 0.25.\n",
      "  warnings.warn(\"'n_jobs' was deprecated in version 0.23 and will be\"\n"
     ]
    },
    {
     "name": "stdout",
     "output_type": "stream",
     "text": [
      "83\n",
      "The elapsed time is 0 H: 0 M: 0.569 S\n",
      "\n"
     ]
    },
    {
     "name": "stderr",
     "output_type": "stream",
     "text": [
      "C:\\Users\\abhig\\anaconda3\\envs\\agency\\lib\\site-packages\\sklearn\\cluster\\_kmeans.py:938: FutureWarning: 'n_jobs' was deprecated in version 0.23 and will be removed in 0.25.\n",
      "  warnings.warn(\"'n_jobs' was deprecated in version 0.23 and will be\"\n"
     ]
    },
    {
     "name": "stdout",
     "output_type": "stream",
     "text": [
      "84\n",
      "The elapsed time is 0 H: 0 M: 0.671 S\n",
      "\n"
     ]
    },
    {
     "name": "stderr",
     "output_type": "stream",
     "text": [
      "C:\\Users\\abhig\\anaconda3\\envs\\agency\\lib\\site-packages\\sklearn\\cluster\\_kmeans.py:938: FutureWarning: 'n_jobs' was deprecated in version 0.23 and will be removed in 0.25.\n",
      "  warnings.warn(\"'n_jobs' was deprecated in version 0.23 and will be\"\n"
     ]
    },
    {
     "name": "stdout",
     "output_type": "stream",
     "text": [
      "85\n",
      "The elapsed time is 0 H: 0 M: 1.352 S\n",
      "\n"
     ]
    },
    {
     "name": "stderr",
     "output_type": "stream",
     "text": [
      "C:\\Users\\abhig\\anaconda3\\envs\\agency\\lib\\site-packages\\sklearn\\cluster\\_kmeans.py:938: FutureWarning: 'n_jobs' was deprecated in version 0.23 and will be removed in 0.25.\n",
      "  warnings.warn(\"'n_jobs' was deprecated in version 0.23 and will be\"\n"
     ]
    },
    {
     "name": "stdout",
     "output_type": "stream",
     "text": [
      "86\n",
      "The elapsed time is 0 H: 0 M: 0.981 S\n",
      "\n"
     ]
    },
    {
     "name": "stderr",
     "output_type": "stream",
     "text": [
      "C:\\Users\\abhig\\anaconda3\\envs\\agency\\lib\\site-packages\\sklearn\\cluster\\_kmeans.py:938: FutureWarning: 'n_jobs' was deprecated in version 0.23 and will be removed in 0.25.\n",
      "  warnings.warn(\"'n_jobs' was deprecated in version 0.23 and will be\"\n"
     ]
    },
    {
     "name": "stdout",
     "output_type": "stream",
     "text": [
      "87\n",
      "The elapsed time is 0 H: 0 M: 0.815 S\n",
      "\n"
     ]
    },
    {
     "name": "stderr",
     "output_type": "stream",
     "text": [
      "C:\\Users\\abhig\\anaconda3\\envs\\agency\\lib\\site-packages\\sklearn\\cluster\\_kmeans.py:938: FutureWarning: 'n_jobs' was deprecated in version 0.23 and will be removed in 0.25.\n",
      "  warnings.warn(\"'n_jobs' was deprecated in version 0.23 and will be\"\n"
     ]
    },
    {
     "name": "stdout",
     "output_type": "stream",
     "text": [
      "88\n",
      "The elapsed time is 0 H: 0 M: 0.696 S\n",
      "\n"
     ]
    },
    {
     "name": "stderr",
     "output_type": "stream",
     "text": [
      "C:\\Users\\abhig\\anaconda3\\envs\\agency\\lib\\site-packages\\sklearn\\cluster\\_kmeans.py:938: FutureWarning: 'n_jobs' was deprecated in version 0.23 and will be removed in 0.25.\n",
      "  warnings.warn(\"'n_jobs' was deprecated in version 0.23 and will be\"\n"
     ]
    },
    {
     "name": "stdout",
     "output_type": "stream",
     "text": [
      "89\n",
      "The elapsed time is 0 H: 0 M: 0.616 S\n",
      "\n"
     ]
    },
    {
     "name": "stderr",
     "output_type": "stream",
     "text": [
      "C:\\Users\\abhig\\anaconda3\\envs\\agency\\lib\\site-packages\\sklearn\\cluster\\_kmeans.py:938: FutureWarning: 'n_jobs' was deprecated in version 0.23 and will be removed in 0.25.\n",
      "  warnings.warn(\"'n_jobs' was deprecated in version 0.23 and will be\"\n"
     ]
    },
    {
     "name": "stdout",
     "output_type": "stream",
     "text": [
      "90\n",
      "The elapsed time is 0 H: 0 M: 0.654 S\n",
      "\n"
     ]
    },
    {
     "name": "stderr",
     "output_type": "stream",
     "text": [
      "C:\\Users\\abhig\\anaconda3\\envs\\agency\\lib\\site-packages\\sklearn\\cluster\\_kmeans.py:938: FutureWarning: 'n_jobs' was deprecated in version 0.23 and will be removed in 0.25.\n",
      "  warnings.warn(\"'n_jobs' was deprecated in version 0.23 and will be\"\n"
     ]
    },
    {
     "name": "stdout",
     "output_type": "stream",
     "text": [
      "91\n",
      "The elapsed time is 0 H: 0 M: 0.692 S\n",
      "\n"
     ]
    },
    {
     "name": "stderr",
     "output_type": "stream",
     "text": [
      "C:\\Users\\abhig\\anaconda3\\envs\\agency\\lib\\site-packages\\sklearn\\cluster\\_kmeans.py:938: FutureWarning: 'n_jobs' was deprecated in version 0.23 and will be removed in 0.25.\n",
      "  warnings.warn(\"'n_jobs' was deprecated in version 0.23 and will be\"\n"
     ]
    },
    {
     "name": "stdout",
     "output_type": "stream",
     "text": [
      "92\n",
      "The elapsed time is 0 H: 0 M: 0.869 S\n",
      "\n"
     ]
    },
    {
     "name": "stderr",
     "output_type": "stream",
     "text": [
      "C:\\Users\\abhig\\anaconda3\\envs\\agency\\lib\\site-packages\\sklearn\\cluster\\_kmeans.py:938: FutureWarning: 'n_jobs' was deprecated in version 0.23 and will be removed in 0.25.\n",
      "  warnings.warn(\"'n_jobs' was deprecated in version 0.23 and will be\"\n"
     ]
    },
    {
     "name": "stdout",
     "output_type": "stream",
     "text": [
      "93\n",
      "The elapsed time is 0 H: 0 M: 0.83 S\n",
      "\n"
     ]
    },
    {
     "name": "stderr",
     "output_type": "stream",
     "text": [
      "C:\\Users\\abhig\\anaconda3\\envs\\agency\\lib\\site-packages\\sklearn\\cluster\\_kmeans.py:938: FutureWarning: 'n_jobs' was deprecated in version 0.23 and will be removed in 0.25.\n",
      "  warnings.warn(\"'n_jobs' was deprecated in version 0.23 and will be\"\n"
     ]
    },
    {
     "name": "stdout",
     "output_type": "stream",
     "text": [
      "94\n",
      "The elapsed time is 0 H: 0 M: 0.671 S\n",
      "\n"
     ]
    },
    {
     "name": "stderr",
     "output_type": "stream",
     "text": [
      "C:\\Users\\abhig\\anaconda3\\envs\\agency\\lib\\site-packages\\sklearn\\cluster\\_kmeans.py:938: FutureWarning: 'n_jobs' was deprecated in version 0.23 and will be removed in 0.25.\n",
      "  warnings.warn(\"'n_jobs' was deprecated in version 0.23 and will be\"\n"
     ]
    },
    {
     "name": "stdout",
     "output_type": "stream",
     "text": [
      "95\n",
      "The elapsed time is 0 H: 0 M: 0.69 S\n",
      "\n"
     ]
    },
    {
     "name": "stderr",
     "output_type": "stream",
     "text": [
      "C:\\Users\\abhig\\anaconda3\\envs\\agency\\lib\\site-packages\\sklearn\\cluster\\_kmeans.py:938: FutureWarning: 'n_jobs' was deprecated in version 0.23 and will be removed in 0.25.\n",
      "  warnings.warn(\"'n_jobs' was deprecated in version 0.23 and will be\"\n"
     ]
    },
    {
     "name": "stdout",
     "output_type": "stream",
     "text": [
      "96\n",
      "The elapsed time is 0 H: 0 M: 0.849 S\n",
      "\n"
     ]
    },
    {
     "name": "stderr",
     "output_type": "stream",
     "text": [
      "C:\\Users\\abhig\\anaconda3\\envs\\agency\\lib\\site-packages\\sklearn\\cluster\\_kmeans.py:938: FutureWarning: 'n_jobs' was deprecated in version 0.23 and will be removed in 0.25.\n",
      "  warnings.warn(\"'n_jobs' was deprecated in version 0.23 and will be\"\n"
     ]
    },
    {
     "name": "stdout",
     "output_type": "stream",
     "text": [
      "97\n",
      "The elapsed time is 0 H: 0 M: 1.474 S\n",
      "\n"
     ]
    },
    {
     "name": "stderr",
     "output_type": "stream",
     "text": [
      "C:\\Users\\abhig\\anaconda3\\envs\\agency\\lib\\site-packages\\sklearn\\cluster\\_kmeans.py:938: FutureWarning: 'n_jobs' was deprecated in version 0.23 and will be removed in 0.25.\n",
      "  warnings.warn(\"'n_jobs' was deprecated in version 0.23 and will be\"\n"
     ]
    },
    {
     "name": "stdout",
     "output_type": "stream",
     "text": [
      "98\n",
      "The elapsed time is 0 H: 0 M: 1.562 S\n",
      "\n"
     ]
    },
    {
     "name": "stderr",
     "output_type": "stream",
     "text": [
      "C:\\Users\\abhig\\anaconda3\\envs\\agency\\lib\\site-packages\\sklearn\\cluster\\_kmeans.py:938: FutureWarning: 'n_jobs' was deprecated in version 0.23 and will be removed in 0.25.\n",
      "  warnings.warn(\"'n_jobs' was deprecated in version 0.23 and will be\"\n"
     ]
    },
    {
     "name": "stdout",
     "output_type": "stream",
     "text": [
      "99\n",
      "The elapsed time is 0 H: 0 M: 0.751 S\n",
      "\n",
      "\n",
      "ENDING TIME: 1608173803.9648004\n",
      "The elapsed time is 49.15661287307739 seconds\n",
      "The elapsed time is 0 H: 0 M: 49.157 S\n",
      "\n",
      "k-means complete\n"
     ]
    }
   ],
   "source": [
    "import time\n",
    "begin = time.time()\n",
    "print(\"STARTING TIME: \" + str(begin) + \"\\n\")\n",
    "\n",
    "sse = []\n",
    "n_clusters = range(1,TRAINING_DATA_SIZE)\n",
    "for k in n_clusters:\n",
    "    begin1 = time.time()\n",
    "    kmeans = KMeans(n_clusters = k, max_iter = 3, n_jobs = 1)\n",
    "    kmeans.fit(X)\n",
    "    sse.append(kmeans.inertia_)\n",
    "    end1 = time.time()\n",
    "    elapsed = end1 - begin1\n",
    "    print(k)\n",
    "    convertSeconds2HMS(elapsed)\n",
    "\n",
    "end = time.time()\n",
    "elapsed = end - begin\n",
    "print(\"\\nENDING TIME: \" + str(end))\n",
    "print(\"The elapsed time is \" + str(elapsed) + \" seconds\")\n",
    "convertSeconds2HMS(elapsed)\n",
    "\n",
    "print(\"k-means complete\")"
   ]
  },
  {
   "cell_type": "code",
   "execution_count": 98,
   "metadata": {
    "scrolled": false
   },
   "outputs": [
    {
     "name": "stdout",
     "output_type": "stream",
     "text": [
      "STARTING TIME: 1608173803.983478\n",
      "\n"
     ]
    },
    {
     "data": {
      "image/png": "[encoded data removed]",
      "text/plain": [
       "<Figure size 432x288 with 1 Axes>"
      ]
     },
     "metadata": {
      "needs_background": "light"
     },
     "output_type": "display_data"
    },
    {
     "name": "stdout",
     "output_type": "stream",
     "text": [
      "\n",
      "ENDING TIME: 1608173804.3178616\n",
      "The elapsed time is 0.334383487701416 seconds\n",
      "The elapsed time is 0 H: 0 M: 0.334 S\n",
      "\n"
     ]
    }
   ],
   "source": [
    "import time\n",
    "begin = time.time()\n",
    "print(\"STARTING TIME: \" + str(begin) + \"\\n\")\n",
    "\n",
    "plt.figure()\n",
    "plt.plot(n_clusters,sse)\n",
    "plt.title('Elbow Curve')\n",
    "plt.show()\n",
    "\n",
    "end = time.time()\n",
    "elapsed = end - begin\n",
    "print(\"\\nENDING TIME: \" + str(end))\n",
    "print(\"The elapsed time is \" + str(elapsed) + \" seconds\")\n",
    "convertSeconds2HMS(elapsed)"
   ]
  },
  {
   "cell_type": "code",
   "execution_count": 99,
   "metadata": {},
   "outputs": [],
   "source": [
    "N_CLUSTERS_N = 15"
   ]
  },
  {
   "cell_type": "code",
   "execution_count": 100,
   "metadata": {},
   "outputs": [
    {
     "name": "stdout",
     "output_type": "stream",
     "text": [
      "STARTING TIME: 1608173804.3561306\n",
      "\n",
      "\n",
      "ENDING TIME: 1608173804.4905856\n",
      "The elapsed time is 0.13445496559143066 seconds\n",
      "The elapsed time is 0 H: 0 M: 0.134 S\n",
      "\n"
     ]
    }
   ],
   "source": [
    "import time\n",
    "\n",
    "begin = time.time()\n",
    "print(\"STARTING TIME: \" + str(begin) + \"\\n\")\n",
    "\n",
    "#Fitting kmeans on the data\n",
    "kmeans = KMeans(n_clusters = N_CLUSTERS_N)\n",
    "kmeans.fit(X)\n",
    "\n",
    "end = time.time()\n",
    "elapsed = end - begin\n",
    "print(\"\\nENDING TIME: \" + str(end))\n",
    "print(\"The elapsed time is \" + str(elapsed) + \" seconds\")\n",
    "convertSeconds2HMS(elapsed)"
   ]
  },
  {
   "cell_type": "code",
   "execution_count": 101,
   "metadata": {},
   "outputs": [
    {
     "name": "stdout",
     "output_type": "stream",
     "text": [
      "STARTING TIME: 1608173804.5117261\n",
      "\n",
      "\n",
      "ENDING TIME: 1608173804.570579\n",
      "The elapsed time is 0.0588529109954834 seconds\n",
      "The elapsed time is 0 H: 0 M: 0.059 S\n",
      "\n"
     ]
    },
    {
     "data": {
      "image/png": "[encoded data removed]",
      "text/plain": [
       "<Figure size 432x288 with 1 Axes>"
      ]
     },
     "metadata": {
      "needs_background": "light"
     },
     "output_type": "display_data"
    }
   ],
   "source": [
    "import time\n",
    "begin = time.time()\n",
    "print(\"STARTING TIME: \" + str(begin) + \"\\n\")\n",
    "\n",
    "#Plotting the Kmeans clusters\n",
    "plt.scatter(X[:,0], X[:,1], c = kmeans.labels_, cmap = 'rainbow')\n",
    "\n",
    "end = time.time()\n",
    "elapsed = end - begin\n",
    "print(\"\\nENDING TIME: \" + str(end))\n",
    "print(\"The elapsed time is \" + str(elapsed) + \" seconds\")\n",
    "convertSeconds2HMS(elapsed)"
   ]
  },
  {
   "cell_type": "code",
   "execution_count": 102,
   "metadata": {},
   "outputs": [
    {
     "name": "stdout",
     "output_type": "stream",
     "text": [
      "STARTING TIME: 1608173804.9018304\n",
      "\n",
      "(['2006', 'Alive - 2006 Remaster', '3IRovqSVYx3CNtDWRebsET'], 0)\n",
      "(['1997', \"I'll Be Your Jonny on the Spot\", '67LZLp33p2yt2RlLoDjfrl'], 0)\n",
      "(['1980', 'Electricity - 2003 Digital Remaster', '60TmG8cFPMBo7kTTFOLiAB'], 0)\n",
      "(['1978', 'Dead On Time', '4rVONof5K5HYxeKKg4LrIG'], 0)\n",
      "(['1996', 'Thank God and Greyhound', '17d5xOklXOZ0dCGsqbr6Z7'], 1)\n",
      "(['1995', 'Graduation Day', '7pzEBcxIIgjKIPTSvbViwN'], 1)\n",
      "(['2005', \"Good Time Charlie's Got the Blues\", '2AyQXjM2jyjIM3t8YavbME'], 1)\n",
      "(['1974', 'You Never Even Called Me By My Name', '2t8bnZqxfcEybJ47qOPPTn'], 1)\n",
      "(['1930', 'Τρία παιδιά Βολιώτικα', '4PzJ9naTfSLKqwqN0HZZ4r'], 1)\n",
      "(['1974', 'The Great Suburban Showdown', '0khtcyK0wuNYq4AYO0zGbf'], 1)\n",
      "(['1976', 'Borderline', '2TyNu8jUZZADDvJ6YLnfBt'], 1)\n",
      "(['1926', 'Часть 48.3 - Фиеста', '1NE8LtsLMeGkY6AhUviPYo'], 1)\n",
      "(['1995', 'Que Seas Muy Feliz', '57FK6Fq03tJjZbphA0Fjwd'], 1)\n",
      "(['1984', \"Love Don't Live Here Anymore\", '1S14j6I0RrdQoxrm7zZNHL'], 1)\n",
      "(['1956', 'Burning Memories', '5nBUs0R1EjSzfRZFgOvmaN'], 1)\n",
      "(['1985', 'Where Is Your Faith In God', '3xeW7TzfWLrZ9enX108W03'], 1)\n",
      "(['1969', 'Something In The Air', '0emd9tHSVP4dK6UG4pcOFD'], 1)\n",
      "(['1946', 'Piano Sonata No. 2, Op. 35, in B-Flat Minor: Marche funèbre', '5ofjeCMG21ogwWARHUr3d3'], 2)\n",
      "(['1990', 'That Secret Place', '036ZNJdUd5hya7JBEkPudn'], 2)\n",
      "(['1981', 'We Will Meet Again - Remastered', '1buxobgVjB9TMzODGU9MIv'], 2)\n",
      "(['2015', '3500 (feat. Future & 2 Chainz)', '1SGt65i9AnXYdDQt1AtDRH'], 3)\n",
      "(['1982', 'Shock The Monkey', '6B2vTF4zhKdR4v4RDXkz3G'], 3)\n",
      "(['1985', 'Be Near Me', '1l3fRzoUngJr6hSMIT1Hfq'], 3)\n",
      "(['2019', 'Liar', '7LzouaWGFCy4tkXDOOnEyM'], 3)\n",
      "(['2018', 'Why Not Me', '1gewwJHPkvysxLEGgOKQuB'], 3)\n",
      "(['1972', 'Children Of The Revolution', '3P4uUs9X0cPw7rf37NTndV'], 3)\n",
      "(['2013', 'Wu-Tang Forever', '7J8g9TwJYxmO0Xy3L916er'], 3)\n",
      "(['2015', 'Ride', '2Z8WuEywRWYTKe1NybPQEW'], 3)\n",
      "(['2011', 'The Ride', '4xRxYWgAtL6pzRz94GlZlA'], 3)\n",
      "(['1988', 'Es el Amor Quien Llega', '3D4SJ01XFSqdZJwRPhSgal'], 3)\n",
      "(['2009', 'Ya Es Muy Tarde', '47ehW8KNY6XhEtwMYAY0br'], 3)\n",
      "(['1949', 'Aise Mein Agar Tum Aa Jate', '2RBW4BagXdibDp8GQVZ23u'], 4)\n",
      "(['1963', 'Autumn Serenade', '4hMy6FHdpoCXzSuVz9izKo'], 4)\n",
      "(['1934', 'La Machona - Remasterizado', '5T9C6ZSPufglBynrrYYasv'], 4)\n",
      "(['1950', 'Часть 5.4 - За рекой, в тени деревьев', '0UUbjtjA9JwqXzHxZxypAE'], 4)\n",
      "(['1945', 'Часть 83.4 & Часть 84.1 - Триумфальная арка', '20ns1HLFrgpAICWdwviyOX'], 4)\n",
      "(['1936', 'Von der Renaissance bis heute, Kapitel 39', '12cV9iXhDIWOMSZyzrMVSG'], 4)\n",
      "(['1956', 'East Of The Sun (West Of The Moon)', '1zE0JZiHOBPlHwLsf4wBld'], 4)\n",
      "(['1935', 'Часть 46.3 & Часть 47.1 - Зеленые холмы Африки', '3gnzVYIAY1BAu1AX7FQtuK'], 4)\n",
      "(['1951', 'A King Without a Queen', '1wrXmWaOg5goeGNjCD4hP5'], 4)\n",
      "(['1945', 'Часть 150.2 & Часть 151.1 - Триумфальная арка', '1Rjkvsy8CZ75irohcz1RAb'], 4)\n",
      "(['1945', 'Sonata No. 3 in B Minor, Op. 58: Largo', '2YUwNAN5YKvbWJGtr6iHiU'], 5)\n",
      "(['1949', 'Gymnopédies: No. 2 - Lent et triste', '1Ocfmmlv7a6Wo2JgnpupU3'], 5)\n",
      "(['2016', 'Grammys', '5e574bhjycX1eH2l4Auage'], 6)\n",
      "(['1973', 'I Know (I Know) - Remastered 2010', '1iccGJjEIDE5HSJVoRAReY'], 6)\n",
      "(['1975', 'Down Home Town', '4ndQGOHsgbs8ep0Di0Uh1W'], 6)\n",
      "(['1985', 'All Cried Out (with Full Force)', '3FYtfxmm5q7zeH8Zlq3Ypd'], 6)\n",
      "(['2011', \"I'm Gonna Love You Through It\", '4GwbSrCJFRze2tK4H12Zew'], 6)\n",
      "(['2018', 'Burn The Ships', '6qNSq6OKjNgXAn3Kj9HBKf'], 6)\n",
      "(['1974', 'This Time', '4VFlcr3HKPO0roG0Q7hfqI'], 6)\n",
      "(['1965', 'Since You Won My Heart', '6dcZiujlB3HkKk1c4AoRE2'], 7)\n",
      "(['2008', \"If It Hadn't Been For Love\", '7DQjWFjaiPULrsqgsZueF3'], 7)\n",
      "(['1933', 'Dominicano Libre', '7zs1sd368X0sjkV7DTJMRp'], 7)\n",
      "(['1970', '5-10-15-20 (25-30 Years of Love)', '32K61QzaFuPzsAQRd2a4OV'], 7)\n",
      "(['1980', 'The Plastic Age', '5fmPJfCYIJfyWwRb8cfgYQ'], 7)\n",
      "(['1992', 'My Blue Angel', '08fTImO0LUTUHwOVRF0zWM'], 7)\n",
      "(['2019', 'Streets', '60ynsPSSKe6O3sfwRnIBRf'], 7)\n",
      "(['1989', 'Gouge Away', '1YZDkJOFT8xlAXDi8lneb3'], 7)\n",
      "(['1957', 'Hot Dog', '0pJqiKW2uBaBYsTJ8yugcB'], 7)\n",
      "(['2013', 'Treehome95 (feat. Coco Owino & Erykah Badu)', '2vLwhcsvRd1f2ETft1kWDN'], 7)\n",
      "(['1998', 'Nebraska', '3g6Iv6AJddkj641ufya8h4'], 7)\n",
      "(['1970', 'Ripple - 2013 Remaster', '1OE5l6sedVcIFELMuxQOPI'], 7)\n",
      "(['1973', 'Fever', '2U2shkjkiZxS5Le7s5R0HE'], 8)\n",
      "(['1996', 'Tell Me What To Do', '4uMmOXFsZ1YJSTqTNifMhF'], 8)\n",
      "(['1993', \"Comin' Out Hard\", '4n3i8iYdTpOHUTf3BmGmaF'], 8)\n",
      "(['1962', 'Folsom Prison Blues', '1cRtV2ocYQg2hDH0nESOBL'], 8)\n",
      "(['1991', 'Que Me Entierren Con La Banda', '4bLdt7O8QjS9XyktGWR8hl'], 8)\n",
      "(['1962', 'Maddy Maddy', '5hDV2Ht2S8iHru6mn9BM93'], 8)\n",
      "(['2004', 'Concerto in B-flat Major for Cello, Strings and Basso continuo, RV 423: III. Allegro', '2FDBZsJdZf1xeUsdMlH76j'], 9)\n",
      "(['1955', 'Le palais de nos chimères', '2WK8Ndc9vEAEKd9yXH8VLp'], 9)\n",
      "(['1925', \"I'm Gonna Gitcha\", '1k4xhU1UoTGs2lYsA7xq4J'], 9)\n",
      "(['1957', 'Comment Allez Vous', '2YZPXYgJZayVF1IYCdIZ0N'], 9)\n",
      "(['1927', 'Muchachita Buena - Instrumental (Remasterizado)', '6PhzbFfCmKAjtyByseK3GW'], 9)\n",
      "(['1964', 'A Taste Of Honey', '2G0ZeTaTKYdAZjsagJHUy9'], 9)\n",
      "(['1951', 'Embraceable You', '4B7cO52w74S5MDNBS0MNRz'], 10)\n",
      "(['1948', 'Imagination - 78rpm Version', '1lK6BfPtzGtHGONquiiDzy'], 10)\n",
      "(['1969', 'Somewhere I Belong', '5ViM2bwFjNqx6K7w1iFlOE'], 10)\n",
      "(['1952', 'Orfeo ed Euridice, Wq. 30: Act II: Scene 1: Misero giovane! - 1992 Remastered', '0Pf4LM8K3jCS4SvUAXE6jD'], 10)\n",
      "(['1930', 'Recuerdos Del Pasado', '2eDVwhoH4BVux8LU87hFYy'], 10)\n",
      "(['1954', 'Les pêcheurs de perles, WD 13 / Act 1: \"Au fond du temple saint\"', '7cB15p5lUZ6zYCjhAHxga2'], 10)\n",
      "(['1985', \"Ol' Man River (from Show Boat) - 1985 Digital Remaster\", '0ARoborzrtiYaTFUge7f9H'], 11)\n",
      "(['1936', 'Himno de España - Remastered', '5otLeysvQehxWNTPeXW5zv'], 11)\n",
      "(['1929', 'Don Giovanni, K. 527: Deh, vieni alla finestra', '5NtyqeQ0kemE3B1wI5KfDr'], 11)\n",
      "(['1994', \"Little B's Poem - Remastered 1994\", '1H6HqwUyRWW55IzH3k1ewz'], 11)\n",
      "(['1957', 'These Foolish Things', '0mrCcgj3gqbLEZxW0SIifx'], 11)\n",
      "(['1990', 'Skulls', '1HXWWM5dRsEhjGyXV2ftTa'], 11)\n",
      "(['2006', 'Glorious', '6IfitwQQ1Gu9g9QnLWDHRY'], 12)\n",
      "(['2003', '12:51', '6Yu1OL8I0D4vjOzYdsXYGK'], 12)\n",
      "(['1989', '紅(イントロ ストリングス)', '4Pusa2zO6F4fTzDHEV7Oqf'], 12)\n",
      "(['1966', 'Batman', '07VIu6qr5aM3B8qI3vwF82'], 12)\n",
      "(['1969', 'Not Right - 2019 Remaster', '6ghf1333jb7cJ9sQCgMRWl'], 12)\n",
      "(['1987', \"Don't Shoot Shot Gun\", '4IB9c8FQ2VNutSWdgkw0Ys'], 13)\n",
      "(['1995', \"Now I'm Hi Pt. 3\", '4ZBgz0Bu9YcqUr7xtP78T8'], 13)\n",
      "(['2001', 'High Life', '098ttCNmncrO4YvqWUNMvn'], 13)\n",
      "(['2010', 'Goodnight Moon', '5zGrlUCEJy4yMZ5xuqxrr0'], 13)\n",
      "(['2000', \"It's the Way You Make Me Feel\", '2B1jt2a6zdN4qLiugoEJry'], 13)\n",
      "(['2020', 'drunk face', '7eTXHE3XiucigdrYHrXpZK'], 13)\n",
      "(['1933', 'Toccata, Adagio and Fugue in C Major, BWV 564: I. Toccata', '467LA1EWHSHfmZ519lEqhK'], 14)\n",
      "(['1949', 'Violin Sonata in A Major, FWV 8: III. Recitativo-Fantasia: Ben moderato', '1b4IUmyY6kB8gZV5hghxzn'], 14)\n",
      "(['1930', 'Exinta Kleftes Imaste', '19R30BcqgOWWTQ1Cnzf8Ez'], 14)\n",
      "\n",
      "ENDING TIME: 1608173804.9125338\n",
      "The elapsed time is 0.010703325271606445 seconds\n",
      "The elapsed time is 0 H: 0 M: 0.011 S\n",
      "\n"
     ]
    }
   ],
   "source": [
    "import time\n",
    "begin = time.time()\n",
    "print(\"STARTING TIME: \" + str(begin) + \"\\n\")\n",
    "#print(kmeans.labels_)\n",
    "#thing1.sort(key=lambda x: x[1])\n",
    "thing3 = list( zip([ item[0:3] for item in thing1[0:100] ], kmeans.labels_) )\n",
    "thing3.sort(key=lambda x: x[1])\n",
    "for x in thing3:\n",
    "    print(x)\n",
    "\n",
    "end = time.time()\n",
    "elapsed = end - begin\n",
    "print(\"\\nENDING TIME: \" + str(end))\n",
    "print(\"The elapsed time is \" + str(elapsed) + \" seconds\")\n",
    "convertSeconds2HMS(elapsed)"
   ]
  },
  {
   "cell_type": "code",
   "execution_count": null,
   "metadata": {},
   "outputs": [],
   "source": []
  }
 ],
 "metadata": {
  "kernelspec": {
   "display_name": "Python 3",
   "language": "python",
   "name": "python3"
  },
  "language_info": {
   "codemirror_mode": {
    "name": "ipython",
    "version": 3
   },
   "file_extension": ".py",
   "mimetype": "text/x-python",
   "name": "python",
   "nbconvert_exporter": "python",
   "pygments_lexer": "ipython3",
   "version": "3.8.5"
  }
 },
 "nbformat": 4,
 "nbformat_minor": 4
}
