{
 "cells": [
  {
   "cell_type": "code",
   "execution_count": 32,
   "metadata": {},
   "outputs": [
    {
     "name": "stdout",
     "output_type": "stream",
     "text": [
      "imports successful\n"
     ]
    }
   ],
   "source": [
    "import time\n",
    "def convertSeconds2HMS(x):\n",
    "    hours = int (x / 3600)\n",
    "    x = x - 3600 * hours\n",
    "    minutes = int (x / 60)\n",
    "    x = x - 60 * minutes\n",
    "    seconds = x\n",
    "    print(\"The elapsed time is \" + str(hours) + \"H:\" + str(minutes) + \"M:\" + str(seconds) + \"S\")\n",
    "begin = time.time()\n",
    "print(\"STARTING TIME: \" + str(begin))\n",
    "\n",
    "#import tensorflow as tf\n",
    "import csv\n",
    "import numpy as np\n",
    "#import pandas as pd\n",
    "import matplotlib.pyplot as plt\n",
    "import sklearn as sk\n",
    "from sklearn.model_selection import train_test_split\n",
    "#print(tf.__version__) #required => >= 2.0.0\n",
    "from sklearn.decomposition import PCA\n",
    "from sklearn.preprocessing import StandardScaler\n",
    "from sklearn.cluster import KMeans\n",
    "print(\"imports successful\")\n",
    "\n",
    "end = time.time()\n",
    "elapsed = end - begin\n",
    "print(\"ENDING TIME: \" + str(end))\n",
    "print(\"The elapsed time is \" + str(elapsed) + \" seconds\")"
   ]
  },
  {
   "cell_type": "code",
   "execution_count": 40,
   "metadata": {},
   "outputs": [
    {
     "name": "stdout",
     "output_type": "stream",
     "text": [
      "STARTING TIME: 1608145886.0140057\n",
      "1\n",
      "2\n",
      "3\n",
      "4\n",
      "5\n",
      "6\n",
      "7\n",
      "8\n",
      "9\n",
      "ENDING TIME: 1608145886.0140057\n",
      "The elapsed time is 0.0 seconds\n",
      "The elapsed time is 1H:1M:40S\n"
     ]
    }
   ],
   "source": [
    "    begin = time.time()\n",
    "print(\"STARTING TIME: \" + str(begin))\n",
    "for x in range(1,10):\n",
    "    print(x)\n",
    "end = time.time()\n",
    "elapsed = end - begin\n",
    "print(\"ENDING TIME: \" + str(end))\n",
    "print(\"The elapsed time is \" + str(elapsed) + \" seconds\")\n",
    "convertSeconds2HMS(elapsed)"
   ]
  },
  {
   "cell_type": "code",
   "execution_count": 34,
   "metadata": {},
   "outputs": [
    {
     "name": "stdout",
     "output_type": "stream",
     "text": [
      "data transfer complete\n"
     ]
    }
   ],
   "source": [
    "import time\n",
    "begin = time.time()\n",
    "print(\"STARTING TIME: \" + str(begin))\n",
    "\n",
    "music_labels = []\n",
    "label_index = []\n",
    "music_data = []\n",
    "with open(\"datasClean.csv\", \"r\", encoding=\"utf-8\") as music_file:\n",
    "\n",
    "    music_reader  = csv.reader(music_file, delimiter = \",\")\n",
    "    \n",
    "    headingRow = next(music_reader)\n",
    "    for row in music_reader:\n",
    "      #music_labels.append(row[8])\n",
    "      label_index.append(int(row[1]))\n",
    "      music_data.append([row[1], row[2], row[3], row[4], row[5], row[6], row [7], row[9], row[10]])\n",
    "\n",
    "end = time.time()\n",
    "elapsed = end - begin\n",
    "print(\"ENDING TIME: \" + str(end))\n",
    "print(\"The elapsed time is \" + str(elapsed) + \" seconds\")\n",
    "convertSeconds2HMS(elapsed)\n",
    "\n",
    "print(\"data transfer complete\")"
   ]
  },
  {
   "cell_type": "code",
   "execution_count": null,
   "metadata": {},
   "outputs": [],
   "source": [
    "import time\n",
    "begin = time.time()\n",
    "print(\"STARTING TIME: \" + str(begin))\n",
    "\n",
    "#print(music_labels[0:30])\n",
    "#print(label_index[0:30])\n",
    "print(music_data[0:1000])\n",
    "#print(len(music_labels))\n",
    "#print(len(label_index))\n",
    "#print(len(music_data))\n",
    "\n",
    "end = time.time()\n",
    "elapsed = end - begin\n",
    "print(\"ENDING TIME: \" + str(end))\n",
    "print(\"The elapsed time is \" + str(elapsed) + \" seconds\")\n",
    "convertSeconds2HMS(elapsed)"
   ]
  },
  {
   "cell_type": "code",
   "execution_count": 35,
   "metadata": {},
   "outputs": [
    {
     "name": "stdout",
     "output_type": "stream",
     "text": [
      "[[-2.39012838e+00 -2.16216991e+00]\n",
      " [ 2.43997904e+00  1.71042986e+00]\n",
      " [-1.66165967e+00 -8.54585417e-01]\n",
      " [-2.00321281e-01 -1.71187998e+00]\n",
      " [ 1.11382876e-03 -6.42053504e-01]\n",
      " [ 1.52346199e+00 -4.52820458e-01]\n",
      " [ 3.25207181e-01  6.08842028e-01]\n",
      " [-1.90921424e+00  1.88765395e-01]\n",
      " [-4.19057591e-01  2.61254413e+00]\n",
      " [ 9.60303134e-01 -1.20819745e-01]\n",
      " [ 3.99364100e-01  6.61326747e-01]\n",
      " [-1.98742977e+00  2.14784010e+00]\n",
      " [ 5.98660126e-01 -7.23279314e-01]\n",
      " [-1.63597575e-01  4.38167908e-01]\n",
      " [ 3.41643778e+00 -2.60121438e+00]\n",
      " [-1.48056844e+00  8.66111577e-01]\n",
      " [-7.05797836e-01 -6.99714999e-01]\n",
      " [-1.85116628e-01 -5.68355124e-01]\n",
      " [ 2.10132404e+00  4.41502833e-01]\n",
      " [ 5.84939676e-02  1.87698983e+00]\n",
      " [ 4.95312499e-01  2.10064064e+00]\n",
      " [-1.74513202e-01 -8.94466679e-01]\n",
      " [-1.16636320e+00  1.24802992e+00]\n",
      " [-1.32273007e+00 -1.84002868e+00]\n",
      " [-5.91371125e-01 -1.08257418e+00]\n",
      " [-1.90921424e+00  1.88765395e-01]\n",
      " [ 5.22810186e-01  2.84522105e-01]\n",
      " [ 4.03333071e+00  5.51011852e-01]\n",
      " [ 1.18286146e+00  2.55491389e-01]\n",
      " [-1.89332317e+00 -5.88492193e-01]\n",
      " [-1.08849676e+00 -3.70760478e-01]\n",
      " [-1.64858964e-01  2.14820720e+00]\n",
      " [-2.23239050e+00  5.15673424e-01]\n",
      " [ 2.05641296e+00 -1.58471269e+00]\n",
      " [ 2.27698470e+00 -8.50879201e-01]\n",
      " [ 4.68108401e-01  8.02259954e-01]\n",
      " [-1.52416782e+00 -9.72277192e-01]\n",
      " [-2.99141959e+00 -1.71297095e-01]\n",
      " [ 8.16428708e-01  7.26883308e-01]\n",
      " [-2.39012838e+00 -2.16216991e+00]\n",
      " [ 2.43634418e+00 -1.14481120e-01]\n",
      " [-2.79576825e-01 -1.99089991e-01]\n",
      " [ 3.33235329e+00  9.27141150e-01]\n",
      " [ 1.22719671e+00 -2.43371004e-01]\n",
      " [-4.11401835e-01 -2.39926674e-01]\n",
      " [-8.41191871e-01 -6.10859745e-01]\n",
      " [ 2.56095288e+00  5.09193982e-01]\n",
      " [-1.27865350e+00  1.16915326e+00]\n",
      " [-3.82942947e+00  1.04526648e+00]\n",
      " [ 1.95868006e+00 -1.56248077e+00]]\n"
     ]
    }
   ],
   "source": [
    "import time\n",
    "begin = time.time()\n",
    "print(\"STARTING TIME: \" + str(begin))\n",
    "\n",
    "#Creating the music recommendation data in array form\n",
    "X = np.array(music_data[0:1000])\n",
    "\n",
    "#Feature Scaling\n",
    "sc = StandardScaler()\n",
    "X = sc.fit_transform(X)\n",
    "\n",
    "#Principal components analysis\n",
    "pca = PCA(n_components = 2)\n",
    "pca.fit(X)\n",
    "X = pca.transform(X)\n",
    "\n",
    "end = time.time()\n",
    "elapsed = end - begin\n",
    "print(\"ENDING TIME: \" + str(end))\n",
    "print(\"The elapsed time is \" + str(elapsed) + \" seconds\")\n",
    "convertSeconds2HMS(elapsed)\n",
    "\n",
    "print(X)"
   ]
  },
  {
   "cell_type": "code",
   "execution_count": 21,
   "metadata": {
    "scrolled": false
   },
   "outputs": [
    {
     "data": {
      "image/png": "[encoded data removed]",
      "text/plain": [
       "<Figure size 432x288 with 1 Axes>"
      ]
     },
     "metadata": {
      "needs_background": "light"
     },
     "output_type": "display_data"
    }
   ],
   "source": [
    "import time\n",
    "begin = time.time()\n",
    "print(\"STARTING TIME: \" + str(begin))\n",
    "\n",
    "import matplotlib.pyplot as plt\n",
    "from sklearn.cluster import KMeans\n",
    "\n",
    "#Plotting the data points\n",
    "plt.figure()\n",
    "plt.scatter(X[:,0], X[:,1], label = 'True Position')\n",
    "plt.show()\n",
    "\n",
    "end = time.time()\n",
    "elapsed = end - begin\n",
    "print(\"ENDING TIME: \" + str(end))\n",
    "print(\"The elapsed time is \" + str(elapsed) + \" seconds\")\n",
    "convertSeconds2HMS(elapsed)"
   ]
  },
  {
   "cell_type": "code",
   "execution_count": 24,
   "metadata": {},
   "outputs": [
    {
     "name": "stderr",
     "output_type": "stream",
     "text": [
      "<ipython-input-24-f686aa6df6c8>:5: ConvergenceWarning: Number of distinct clusters (990) found smaller than n_clusters (991). Possibly due to duplicate points in X.\n",
      "  kmeans.fit(X)\n",
      "<ipython-input-24-f686aa6df6c8>:5: ConvergenceWarning: Number of distinct clusters (990) found smaller than n_clusters (992). Possibly due to duplicate points in X.\n",
      "  kmeans.fit(X)\n",
      "<ipython-input-24-f686aa6df6c8>:5: ConvergenceWarning: Number of distinct clusters (990) found smaller than n_clusters (993). Possibly due to duplicate points in X.\n",
      "  kmeans.fit(X)\n",
      "<ipython-input-24-f686aa6df6c8>:5: ConvergenceWarning: Number of distinct clusters (990) found smaller than n_clusters (994). Possibly due to duplicate points in X.\n",
      "  kmeans.fit(X)\n",
      "<ipython-input-24-f686aa6df6c8>:5: ConvergenceWarning: Number of distinct clusters (990) found smaller than n_clusters (995). Possibly due to duplicate points in X.\n",
      "  kmeans.fit(X)\n",
      "<ipython-input-24-f686aa6df6c8>:5: ConvergenceWarning: Number of distinct clusters (990) found smaller than n_clusters (996). Possibly due to duplicate points in X.\n",
      "  kmeans.fit(X)\n",
      "<ipython-input-24-f686aa6df6c8>:5: ConvergenceWarning: Number of distinct clusters (990) found smaller than n_clusters (997). Possibly due to duplicate points in X.\n",
      "  kmeans.fit(X)\n",
      "<ipython-input-24-f686aa6df6c8>:5: ConvergenceWarning: Number of distinct clusters (990) found smaller than n_clusters (998). Possibly due to duplicate points in X.\n",
      "  kmeans.fit(X)\n"
     ]
    },
    {
     "name": "stdout",
     "output_type": "stream",
     "text": [
      "k-means complete\n"
     ]
    },
    {
     "name": "stderr",
     "output_type": "stream",
     "text": [
      "<ipython-input-24-f686aa6df6c8>:5: ConvergenceWarning: Number of distinct clusters (990) found smaller than n_clusters (999). Possibly due to duplicate points in X.\n",
      "  kmeans.fit(X)\n"
     ]
    }
   ],
   "source": [
    "import time\n",
    "begin = time.time()\n",
    "print(\"STARTING TIME: \" + str(begin))\n",
    "\n",
    "sse = []\n",
    "n_clusters = range(1,1000)\n",
    "for k in n_clusters:\n",
    "  kmeans = KMeans(n_clusters=k)\n",
    "  kmeans.fit(X)\n",
    "  sse.append(kmeans.inertia_)\n",
    "\n",
    "end = time.time()\n",
    "elapsed = end - begin\n",
    "print(\"ENDING TIME: \" + str(end))\n",
    "print(\"The elapsed time is \" + str(elapsed) + \" seconds\")\n",
    "convertSeconds2HMS(elapsed)\n",
    "\n",
    "print(\"k-means complete\")"
   ]
  },
  {
   "cell_type": "code",
   "execution_count": 25,
   "metadata": {
    "scrolled": false
   },
   "outputs": [
    {
     "data": {
      "image/png": "[encoded data removed]",
      "text/plain": [
       "<Figure size 432x288 with 1 Axes>"
      ]
     },
     "metadata": {
      "needs_background": "light"
     },
     "output_type": "display_data"
    }
   ],
   "source": [
    "import time\n",
    "begin = time.time()\n",
    "print(\"STARTING TIME: \" + str(begin))\n",
    "\n",
    "plt.figure()\n",
    "plt.plot(n_clusters,sse)\n",
    "plt.title('Elbow Curve')\n",
    "plt.show()\n",
    "\n",
    "end = time.time()\n",
    "elapsed = end - begin\n",
    "print(\"ENDING TIME: \" + str(end))\n",
    "print(\"The elapsed time is \" + str(elapsed) + \" seconds\")\n",
    "convertSeconds2HMS(elapsed)"
   ]
  },
  {
   "cell_type": "code",
   "execution_count": 26,
   "metadata": {},
   "outputs": [
    {
     "data": {
      "text/plain": [
       "KMeans(n_clusters=75)"
      ]
     },
     "execution_count": 26,
     "metadata": {},
     "output_type": "execute_result"
    }
   ],
   "source": [
    "import time\n",
    "begin = time.time()\n",
    "print(\"STARTING TIME: \" + str(begin))\n",
    "\n",
    "#Fitting kmeans on the data\n",
    "kmeans = KMeans(n_clusters= 75)\n",
    "kmeans.fit(X)\n",
    "\n",
    "end = time.time()\n",
    "elapsed = end - begin\n",
    "print(\"ENDING TIME: \" + str(end))\n",
    "print(\"The elapsed time is \" + str(elapsed) + \" seconds\")\n",
    "convertSeconds2HMS(elapsed)"
   ]
  },
  {
   "cell_type": "code",
   "execution_count": 27,
   "metadata": {},
   "outputs": [
    {
     "data": {
      "text/plain": [
       "<matplotlib.collections.PathCollection at 0x1bd3412c5b0>"
      ]
     },
     "execution_count": 27,
     "metadata": {},
     "output_type": "execute_result"
    },
    {
     "data": {
      "image/png": "[encoded data removed]",
      "text/plain": [
       "<Figure size 432x288 with 1 Axes>"
      ]
     },
     "metadata": {
      "needs_background": "light"
     },
     "output_type": "display_data"
    }
   ],
   "source": [
    "import time\n",
    "begin = time.time()\n",
    "print(\"STARTING TIME: \" + str(begin))\n",
    "\n",
    "#Plotting the Kmeans clusters\n",
    "plt.scatter(X[:,0], X[:,1], c = kmeans.labels_, cmap = 'rainbow')\n",
    "\n",
    "end = time.time()\n",
    "elapsed = end - begin\n",
    "print(\"ENDING TIME: \" + str(end))\n",
    "print(\"The elapsed time is \" + str(elapsed) + \" seconds\")\n",
    "convertSeconds2HMS(elapsed)"
   ]
  },
  {
   "cell_type": "code",
   "execution_count": 28,
   "metadata": {},
   "outputs": [
    {
     "name": "stdout",
     "output_type": "stream",
     "text": [
      "[64 42 21 35 72 36 72 64 34 18 16  4 16 41 50 51  9 33  6 15 73 73 17  1\n",
      " 73 64 57 40  8 66 63 15 58 60 48 16 21 12 57 64 48 15 10 36  9 34 42 22\n",
      " 24 74 21  1 15 44  9 45 17 17 60  9 15 21 38  2 68 63 41 63 49 38  8 55\n",
      " 29 15 38 49  7  7 34 69 21 12 51 55 12 15 55 51 35 41 57 22 34 12 51 63\n",
      " 36 45 64 40 41  9 15 41 68 63 69  6 70 22 61 34 24 16 17 24 73 11 63 12\n",
      " 72 44 21 41 53 12 12 38 48 40 50 21 12 35 57  4  8 63 21 49 21  4  9 36\n",
      " 24 57 72 73 22  1 49 34 66 18 61 37 22 35 52  8 72 18 55 68  2 69 51 18\n",
      " 16 44  9 34 22 49 21  2 15 33 42  4 51 26 61 51 15 68 49 44 22 22  2 26\n",
      " 49 17 26 65 26 16 41 68 19 22 22 10 61  4  4 72 34 13 17  8 68  9 37 44\n",
      "  4 15 22 69  2 23 55 38 37 18 55 49 69 55 69 41 57 63 23 72 39 57 53  2\n",
      " 63 73  2 15 41 18 72 11 41  5 18 62 47 69  8 32 47 69 62 39 52 23 47 67\n",
      " 39 23 13 23 43 73 62 33 37  2  8 59 34  8 23 67 32 52 67 41 18  3 41 18\n",
      " 49 31 49 18 11  8 59 53 57 45 43 31 69 53 20 16  8 11 62 33 29 72 11 56\n",
      "  3  2 52 69 61  8 62 61 29 33 18 39 17 54 57 27 61 53 39 57 41 72 21 53\n",
      " 33 66 14 18 34 17 61 14 18 68 39 21 17  2 18 31 42 73 56 56 27 70 42 32\n",
      "  0  2 14 39 26 70  1 18 69  0 14  1 16 16 40 49 14 62 60 53 46 19 61 51\n",
      "  1 33 25 55 17 70 57 41 56 55 61  0 18 18  5 66 17 39 49 51  2 43  8 45\n",
      " 37 37 65 62 45 20 30  0  8 56 72 23 31 52 45  3 59 65 43 67  3 15 55 57\n",
      " 18 33 65  0 57 62 61 43 20  1 26 53 33 46 67 34 40 33 14 26 51 14  3 53\n",
      " 16 41 70 43 44 33  8 67 35 31 67  8  1 53 70 42 67 52 27  0  8 28 54 67\n",
      " 43 27 72 33 16 17 56 37 56 56 14  6 57 53 13 31  8 17 53 67 11 11 39 14\n",
      " 39 23  8 29 24 70 22 60 29 74 71 67 56  1  5 54 33 67  0 48 46 11  8 53\n",
      " 29 46 32 33 43  5 59 26 10 53 37 59 15 11 26 41 54  4 59 46 54 56 39 11\n",
      " 27 53  5 55 41  5 44  5  5 18 23 14  3 29 29 32 14 62 11 33  2 33 39 52\n",
      " 33 60 42 69 29 23 28 41 42 47 16 32 20 39  6 58 42 18 56 46 61 56 73 46\n",
      " 39 66 56 39 39 11 61 55 67 17 59 29 18  3 33  5 55  0 43  3  8  8 72 32\n",
      " 32 61 65 67 14 38 43  8  9  2  8  8  8  8  8 18 61 63  3 59 18 52 72 61\n",
      " 47 65 13 71 21 45 29 45 31 65 45 32 71 46 23 32 72 45  5 73 65 60 65 70\n",
      " 60 37 46 62  9 37 61 19 49 30 30 65 13 59 45 61 59 67 73  0 60  9 42 31\n",
      " 30 41 11 37  2 70  0 20  9 42 27 11 16 57 49 33 22 34 57 64 54 65 22 43\n",
      " 30 54 27 13 50 69 66 18 56  4 22 20 61 54 18  4 33  5 39 56 41 54 71 63\n",
      "  4 46 43  8  7 54 11 69 33 55 34 61  9 54 41 72 11 22 11  5 52 22 67 38\n",
      " 41 32 72  2  9 54 61 44 34 33 39 71 68 55 51 72 23 46  5 15 58 51 33 22\n",
      " 33  4  2 45 61 54  0  4 45 26 16 27 32 14 35 72 29 16  2 52  3 23 20  8\n",
      " 67 32 61 18 23 61 15 52 14  8 59 34 18 49 34 55 65 29 61 27 42 43 21  2\n",
      " 63  8 34 54 10 16  1 36 17  9 18  1 16  6 62 21 27 17 73 17 73 51 45 67\n",
      " 41 62 56 16 55  8 20 45 47 14  8 37 45 27 23 43 47 18  8 39 14 45 46 37\n",
      " 47 23 47 52 52 27 34 16 49 43 67 27  8 18 57 27 47  8 13 18 47 57 59 32\n",
      "  0 43 15 62 29 47  2 43  0 54 20 47 20 27 59 46 23 32 43 46 64 34 59 23\n",
      "  5 59 33 11 33 62 11 31 23 11 33 11  5 67  8 39 47  5 30 71 19 61 42 62\n",
      " 29  3 23 47 65  8 16 69 19 48 11 48 31  4 48 19 19 35 12 46 35 35 19 74\n",
      " 48 19 59 35 53 48 37 13 19 13 19 13 69 48 35 48]\n"
     ]
    }
   ],
   "source": [
    "import time\n",
    "begin = time.time()\n",
    "print(\"STARTING TIME: \" + str(begin))\n",
    "\n",
    "print(kmeans.labels_)\n",
    "\n",
    "end = time.time()\n",
    "elapsed = end - begin\n",
    "print(\"ENDING TIME: \" + str(end))\n",
    "print(\"The elapsed time is \" + str(elapsed) + \" seconds\")\n",
    "convertSeconds2HMS(elapsed)"
   ]
  }
 ],
 "metadata": {
  "kernelspec": {
   "display_name": "Python 3",
   "language": "python",
   "name": "python3"
  },
  "language_info": {
   "codemirror_mode": {
    "name": "ipython",
    "version": 3
   },
   "file_extension": ".py",
   "mimetype": "text/x-python",
   "name": "python",
   "nbconvert_exporter": "python",
   "pygments_lexer": "ipython3",
   "version": "3.8.5"
  }
 },
 "nbformat": 4,
 "nbformat_minor": 4
}
